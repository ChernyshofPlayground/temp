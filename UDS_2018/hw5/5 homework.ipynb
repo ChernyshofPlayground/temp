{
 "cells": [
  {
   "cell_type": "code",
   "execution_count": 1,
   "metadata": {},
   "outputs": [],
   "source": [
    "import pandas as pd\n",
    "import numpy as np\n",
    "\n",
    "\n",
    "import seaborn as sns\n",
    "%matplotlib inline"
   ]
  },
  {
   "cell_type": "code",
   "execution_count": 2,
   "metadata": {},
   "outputs": [],
   "source": [
    "train = pd.read_csv('data/train.csv', sep='\\t', index_col='Unnamed: 0')\n",
    "test = pd.read_csv('data/test.csv', sep='\\t', index_col='Unnamed: 0')"
   ]
  },
  {
   "cell_type": "markdown",
   "metadata": {},
   "source": [
    "### Quick data analysis\n",
    "---"
   ]
  },
  {
   "cell_type": "code",
   "execution_count": 3,
   "metadata": {},
   "outputs": [
    {
     "name": "stdout",
     "output_type": "stream",
     "text": [
      "30500\n",
      "4166\n"
     ]
    }
   ],
   "source": [
    "print(len(train))\n",
    "print(len(test))"
   ]
  },
  {
   "cell_type": "code",
   "execution_count": 4,
   "metadata": {},
   "outputs": [
    {
     "name": "stdout",
     "output_type": "stream",
     "text": [
      "0.17780327868852458\n"
     ]
    }
   ],
   "source": [
    "print(train['0'].mean())"
   ]
  },
  {
   "cell_type": "code",
   "execution_count": 5,
   "metadata": {},
   "outputs": [
    {
     "data": {
      "text/html": [
       "<div>\n",
       "<style scoped>\n",
       "    .dataframe tbody tr th:only-of-type {\n",
       "        vertical-align: middle;\n",
       "    }\n",
       "\n",
       "    .dataframe tbody tr th {\n",
       "        vertical-align: top;\n",
       "    }\n",
       "\n",
       "    .dataframe thead th {\n",
       "        text-align: right;\n",
       "    }\n",
       "</style>\n",
       "<table border=\"1\" class=\"dataframe\">\n",
       "  <thead>\n",
       "    <tr style=\"text-align: right;\">\n",
       "      <th></th>\n",
       "      <th>0</th>\n",
       "      <th>1</th>\n",
       "      <th>2</th>\n",
       "      <th>3</th>\n",
       "      <th>4</th>\n",
       "      <th>5</th>\n",
       "      <th>6</th>\n",
       "      <th>7</th>\n",
       "      <th>8</th>\n",
       "      <th>9</th>\n",
       "      <th>...</th>\n",
       "      <th>336</th>\n",
       "      <th>337</th>\n",
       "      <th>338</th>\n",
       "      <th>339</th>\n",
       "      <th>340</th>\n",
       "      <th>341</th>\n",
       "      <th>342</th>\n",
       "      <th>343</th>\n",
       "      <th>344</th>\n",
       "      <th>345</th>\n",
       "    </tr>\n",
       "  </thead>\n",
       "  <tbody>\n",
       "    <tr>\n",
       "      <th>0</th>\n",
       "      <td>1</td>\n",
       "      <td>1</td>\n",
       "      <td>0</td>\n",
       "      <td>0</td>\n",
       "      <td>0</td>\n",
       "      <td>0</td>\n",
       "      <td>0</td>\n",
       "      <td>0.090909</td>\n",
       "      <td>0</td>\n",
       "      <td>0</td>\n",
       "      <td>...</td>\n",
       "      <td>0.221395</td>\n",
       "      <td>0</td>\n",
       "      <td>1</td>\n",
       "      <td>0</td>\n",
       "      <td>0</td>\n",
       "      <td>0.222222</td>\n",
       "      <td>1</td>\n",
       "      <td>1</td>\n",
       "      <td>1</td>\n",
       "      <td>1</td>\n",
       "    </tr>\n",
       "    <tr>\n",
       "      <th>1</th>\n",
       "      <td>1</td>\n",
       "      <td>1</td>\n",
       "      <td>0</td>\n",
       "      <td>0</td>\n",
       "      <td>1</td>\n",
       "      <td>0</td>\n",
       "      <td>0</td>\n",
       "      <td>0.090909</td>\n",
       "      <td>0</td>\n",
       "      <td>0</td>\n",
       "      <td>...</td>\n",
       "      <td>0.241508</td>\n",
       "      <td>0</td>\n",
       "      <td>1</td>\n",
       "      <td>0</td>\n",
       "      <td>0</td>\n",
       "      <td>0.111111</td>\n",
       "      <td>1</td>\n",
       "      <td>1</td>\n",
       "      <td>1</td>\n",
       "      <td>0</td>\n",
       "    </tr>\n",
       "    <tr>\n",
       "      <th>2</th>\n",
       "      <td>0</td>\n",
       "      <td>1</td>\n",
       "      <td>0</td>\n",
       "      <td>0</td>\n",
       "      <td>1</td>\n",
       "      <td>0</td>\n",
       "      <td>0</td>\n",
       "      <td>0.090909</td>\n",
       "      <td>0</td>\n",
       "      <td>0</td>\n",
       "      <td>...</td>\n",
       "      <td>0.123067</td>\n",
       "      <td>0</td>\n",
       "      <td>1</td>\n",
       "      <td>0</td>\n",
       "      <td>0</td>\n",
       "      <td>0.444444</td>\n",
       "      <td>1</td>\n",
       "      <td>1</td>\n",
       "      <td>1</td>\n",
       "      <td>1</td>\n",
       "    </tr>\n",
       "    <tr>\n",
       "      <th>3</th>\n",
       "      <td>0</td>\n",
       "      <td>1</td>\n",
       "      <td>0</td>\n",
       "      <td>0</td>\n",
       "      <td>1</td>\n",
       "      <td>0</td>\n",
       "      <td>0</td>\n",
       "      <td>0.136364</td>\n",
       "      <td>0</td>\n",
       "      <td>0</td>\n",
       "      <td>...</td>\n",
       "      <td>0.296065</td>\n",
       "      <td>0</td>\n",
       "      <td>0</td>\n",
       "      <td>1</td>\n",
       "      <td>0</td>\n",
       "      <td>0.222222</td>\n",
       "      <td>1</td>\n",
       "      <td>1</td>\n",
       "      <td>1</td>\n",
       "      <td>0</td>\n",
       "    </tr>\n",
       "    <tr>\n",
       "      <th>4</th>\n",
       "      <td>0</td>\n",
       "      <td>1</td>\n",
       "      <td>0</td>\n",
       "      <td>0</td>\n",
       "      <td>1</td>\n",
       "      <td>0</td>\n",
       "      <td>0</td>\n",
       "      <td>0.136364</td>\n",
       "      <td>0</td>\n",
       "      <td>0</td>\n",
       "      <td>...</td>\n",
       "      <td>0.178956</td>\n",
       "      <td>0</td>\n",
       "      <td>0</td>\n",
       "      <td>1</td>\n",
       "      <td>0</td>\n",
       "      <td>0.111111</td>\n",
       "      <td>1</td>\n",
       "      <td>1</td>\n",
       "      <td>1</td>\n",
       "      <td>1</td>\n",
       "    </tr>\n",
       "  </tbody>\n",
       "</table>\n",
       "<p>5 rows × 346 columns</p>\n",
       "</div>"
      ],
      "text/plain": [
       "   0  1  2  3  4  5  6         7  8  9 ...        336  337  338  339  340  \\\n",
       "0  1  1  0  0  0  0  0  0.090909  0  0 ...   0.221395    0    1    0    0   \n",
       "1  1  1  0  0  1  0  0  0.090909  0  0 ...   0.241508    0    1    0    0   \n",
       "2  0  1  0  0  1  0  0  0.090909  0  0 ...   0.123067    0    1    0    0   \n",
       "3  0  1  0  0  1  0  0  0.136364  0  0 ...   0.296065    0    0    1    0   \n",
       "4  0  1  0  0  1  0  0  0.136364  0  0 ...   0.178956    0    0    1    0   \n",
       "\n",
       "        341  342  343  344  345  \n",
       "0  0.222222    1    1    1    1  \n",
       "1  0.111111    1    1    1    0  \n",
       "2  0.444444    1    1    1    1  \n",
       "3  0.222222    1    1    1    0  \n",
       "4  0.111111    1    1    1    1  \n",
       "\n",
       "[5 rows x 346 columns]"
      ]
     },
     "execution_count": 5,
     "metadata": {},
     "output_type": "execute_result"
    }
   ],
   "source": [
    "train.head()"
   ]
  },
  {
   "cell_type": "code",
   "execution_count": 6,
   "metadata": {},
   "outputs": [
    {
     "data": {
      "text/html": [
       "<div>\n",
       "<style scoped>\n",
       "    .dataframe tbody tr th:only-of-type {\n",
       "        vertical-align: middle;\n",
       "    }\n",
       "\n",
       "    .dataframe tbody tr th {\n",
       "        vertical-align: top;\n",
       "    }\n",
       "\n",
       "    .dataframe thead th {\n",
       "        text-align: right;\n",
       "    }\n",
       "</style>\n",
       "<table border=\"1\" class=\"dataframe\">\n",
       "  <thead>\n",
       "    <tr style=\"text-align: right;\">\n",
       "      <th></th>\n",
       "      <th>0</th>\n",
       "      <th>1</th>\n",
       "      <th>2</th>\n",
       "      <th>3</th>\n",
       "      <th>4</th>\n",
       "      <th>5</th>\n",
       "      <th>6</th>\n",
       "      <th>7</th>\n",
       "      <th>8</th>\n",
       "      <th>9</th>\n",
       "      <th>...</th>\n",
       "      <th>336</th>\n",
       "      <th>337</th>\n",
       "      <th>338</th>\n",
       "      <th>339</th>\n",
       "      <th>340</th>\n",
       "      <th>341</th>\n",
       "      <th>342</th>\n",
       "      <th>343</th>\n",
       "      <th>344</th>\n",
       "      <th>345</th>\n",
       "    </tr>\n",
       "  </thead>\n",
       "  <tbody>\n",
       "    <tr>\n",
       "      <th>count</th>\n",
       "      <td>30500.000000</td>\n",
       "      <td>30500.000000</td>\n",
       "      <td>30500.000000</td>\n",
       "      <td>30500.000000</td>\n",
       "      <td>30500.000000</td>\n",
       "      <td>30500.000000</td>\n",
       "      <td>30500.000000</td>\n",
       "      <td>30500.000000</td>\n",
       "      <td>30500.000000</td>\n",
       "      <td>30500.000000</td>\n",
       "      <td>...</td>\n",
       "      <td>30500.000000</td>\n",
       "      <td>30500.000000</td>\n",
       "      <td>30500.000000</td>\n",
       "      <td>30500.000000</td>\n",
       "      <td>30500.000000</td>\n",
       "      <td>30500.000000</td>\n",
       "      <td>30500.000000</td>\n",
       "      <td>30500.000000</td>\n",
       "      <td>30500.000000</td>\n",
       "      <td>30500.000000</td>\n",
       "    </tr>\n",
       "    <tr>\n",
       "      <th>mean</th>\n",
       "      <td>0.177803</td>\n",
       "      <td>0.977902</td>\n",
       "      <td>0.021934</td>\n",
       "      <td>0.000164</td>\n",
       "      <td>0.437672</td>\n",
       "      <td>0.000623</td>\n",
       "      <td>0.000721</td>\n",
       "      <td>0.096431</td>\n",
       "      <td>0.003344</td>\n",
       "      <td>0.021934</td>\n",
       "      <td>...</td>\n",
       "      <td>0.306157</td>\n",
       "      <td>0.489672</td>\n",
       "      <td>0.401607</td>\n",
       "      <td>0.050426</td>\n",
       "      <td>0.001246</td>\n",
       "      <td>0.085858</td>\n",
       "      <td>0.965934</td>\n",
       "      <td>0.985541</td>\n",
       "      <td>0.953803</td>\n",
       "      <td>0.626230</td>\n",
       "    </tr>\n",
       "    <tr>\n",
       "      <th>std</th>\n",
       "      <td>0.382353</td>\n",
       "      <td>0.147006</td>\n",
       "      <td>0.146472</td>\n",
       "      <td>0.012803</td>\n",
       "      <td>0.496108</td>\n",
       "      <td>0.024952</td>\n",
       "      <td>0.026848</td>\n",
       "      <td>0.023719</td>\n",
       "      <td>0.057734</td>\n",
       "      <td>0.146472</td>\n",
       "      <td>...</td>\n",
       "      <td>0.128760</td>\n",
       "      <td>0.499902</td>\n",
       "      <td>0.490231</td>\n",
       "      <td>0.218826</td>\n",
       "      <td>0.035276</td>\n",
       "      <td>0.165875</td>\n",
       "      <td>0.181401</td>\n",
       "      <td>0.119375</td>\n",
       "      <td>0.209914</td>\n",
       "      <td>0.483812</td>\n",
       "    </tr>\n",
       "    <tr>\n",
       "      <th>min</th>\n",
       "      <td>0.000000</td>\n",
       "      <td>0.000000</td>\n",
       "      <td>0.000000</td>\n",
       "      <td>0.000000</td>\n",
       "      <td>0.000000</td>\n",
       "      <td>0.000000</td>\n",
       "      <td>0.000000</td>\n",
       "      <td>0.000000</td>\n",
       "      <td>0.000000</td>\n",
       "      <td>0.000000</td>\n",
       "      <td>...</td>\n",
       "      <td>0.000000</td>\n",
       "      <td>0.000000</td>\n",
       "      <td>0.000000</td>\n",
       "      <td>0.000000</td>\n",
       "      <td>0.000000</td>\n",
       "      <td>0.000000</td>\n",
       "      <td>0.000000</td>\n",
       "      <td>0.000000</td>\n",
       "      <td>0.000000</td>\n",
       "      <td>0.000000</td>\n",
       "    </tr>\n",
       "    <tr>\n",
       "      <th>25%</th>\n",
       "      <td>0.000000</td>\n",
       "      <td>1.000000</td>\n",
       "      <td>0.000000</td>\n",
       "      <td>0.000000</td>\n",
       "      <td>0.000000</td>\n",
       "      <td>0.000000</td>\n",
       "      <td>0.000000</td>\n",
       "      <td>0.090909</td>\n",
       "      <td>0.000000</td>\n",
       "      <td>0.000000</td>\n",
       "      <td>...</td>\n",
       "      <td>0.192617</td>\n",
       "      <td>0.000000</td>\n",
       "      <td>0.000000</td>\n",
       "      <td>0.000000</td>\n",
       "      <td>0.000000</td>\n",
       "      <td>0.000000</td>\n",
       "      <td>1.000000</td>\n",
       "      <td>1.000000</td>\n",
       "      <td>1.000000</td>\n",
       "      <td>0.000000</td>\n",
       "    </tr>\n",
       "    <tr>\n",
       "      <th>50%</th>\n",
       "      <td>0.000000</td>\n",
       "      <td>1.000000</td>\n",
       "      <td>0.000000</td>\n",
       "      <td>0.000000</td>\n",
       "      <td>0.000000</td>\n",
       "      <td>0.000000</td>\n",
       "      <td>0.000000</td>\n",
       "      <td>0.090909</td>\n",
       "      <td>0.000000</td>\n",
       "      <td>0.000000</td>\n",
       "      <td>...</td>\n",
       "      <td>0.281274</td>\n",
       "      <td>0.000000</td>\n",
       "      <td>0.000000</td>\n",
       "      <td>0.000000</td>\n",
       "      <td>0.000000</td>\n",
       "      <td>0.000000</td>\n",
       "      <td>1.000000</td>\n",
       "      <td>1.000000</td>\n",
       "      <td>1.000000</td>\n",
       "      <td>1.000000</td>\n",
       "    </tr>\n",
       "    <tr>\n",
       "      <th>75%</th>\n",
       "      <td>0.000000</td>\n",
       "      <td>1.000000</td>\n",
       "      <td>0.000000</td>\n",
       "      <td>0.000000</td>\n",
       "      <td>1.000000</td>\n",
       "      <td>0.000000</td>\n",
       "      <td>0.000000</td>\n",
       "      <td>0.090909</td>\n",
       "      <td>0.000000</td>\n",
       "      <td>0.000000</td>\n",
       "      <td>...</td>\n",
       "      <td>0.450414</td>\n",
       "      <td>1.000000</td>\n",
       "      <td>1.000000</td>\n",
       "      <td>0.000000</td>\n",
       "      <td>0.000000</td>\n",
       "      <td>0.111111</td>\n",
       "      <td>1.000000</td>\n",
       "      <td>1.000000</td>\n",
       "      <td>1.000000</td>\n",
       "      <td>1.000000</td>\n",
       "    </tr>\n",
       "    <tr>\n",
       "      <th>max</th>\n",
       "      <td>1.000000</td>\n",
       "      <td>1.000000</td>\n",
       "      <td>1.000000</td>\n",
       "      <td>1.000000</td>\n",
       "      <td>1.000000</td>\n",
       "      <td>1.000000</td>\n",
       "      <td>1.000000</td>\n",
       "      <td>1.000000</td>\n",
       "      <td>1.000000</td>\n",
       "      <td>1.000000</td>\n",
       "      <td>...</td>\n",
       "      <td>1.000000</td>\n",
       "      <td>1.000000</td>\n",
       "      <td>1.000000</td>\n",
       "      <td>1.000000</td>\n",
       "      <td>1.000000</td>\n",
       "      <td>1.000000</td>\n",
       "      <td>1.000000</td>\n",
       "      <td>1.000000</td>\n",
       "      <td>1.000000</td>\n",
       "      <td>1.000000</td>\n",
       "    </tr>\n",
       "  </tbody>\n",
       "</table>\n",
       "<p>8 rows × 346 columns</p>\n",
       "</div>"
      ],
      "text/plain": [
       "                  0             1             2             3             4  \\\n",
       "count  30500.000000  30500.000000  30500.000000  30500.000000  30500.000000   \n",
       "mean       0.177803      0.977902      0.021934      0.000164      0.437672   \n",
       "std        0.382353      0.147006      0.146472      0.012803      0.496108   \n",
       "min        0.000000      0.000000      0.000000      0.000000      0.000000   \n",
       "25%        0.000000      1.000000      0.000000      0.000000      0.000000   \n",
       "50%        0.000000      1.000000      0.000000      0.000000      0.000000   \n",
       "75%        0.000000      1.000000      0.000000      0.000000      1.000000   \n",
       "max        1.000000      1.000000      1.000000      1.000000      1.000000   \n",
       "\n",
       "                  5             6             7             8             9  \\\n",
       "count  30500.000000  30500.000000  30500.000000  30500.000000  30500.000000   \n",
       "mean       0.000623      0.000721      0.096431      0.003344      0.021934   \n",
       "std        0.024952      0.026848      0.023719      0.057734      0.146472   \n",
       "min        0.000000      0.000000      0.000000      0.000000      0.000000   \n",
       "25%        0.000000      0.000000      0.090909      0.000000      0.000000   \n",
       "50%        0.000000      0.000000      0.090909      0.000000      0.000000   \n",
       "75%        0.000000      0.000000      0.090909      0.000000      0.000000   \n",
       "max        1.000000      1.000000      1.000000      1.000000      1.000000   \n",
       "\n",
       "           ...                336           337           338           339  \\\n",
       "count      ...       30500.000000  30500.000000  30500.000000  30500.000000   \n",
       "mean       ...           0.306157      0.489672      0.401607      0.050426   \n",
       "std        ...           0.128760      0.499902      0.490231      0.218826   \n",
       "min        ...           0.000000      0.000000      0.000000      0.000000   \n",
       "25%        ...           0.192617      0.000000      0.000000      0.000000   \n",
       "50%        ...           0.281274      0.000000      0.000000      0.000000   \n",
       "75%        ...           0.450414      1.000000      1.000000      0.000000   \n",
       "max        ...           1.000000      1.000000      1.000000      1.000000   \n",
       "\n",
       "                340           341           342           343           344  \\\n",
       "count  30500.000000  30500.000000  30500.000000  30500.000000  30500.000000   \n",
       "mean       0.001246      0.085858      0.965934      0.985541      0.953803   \n",
       "std        0.035276      0.165875      0.181401      0.119375      0.209914   \n",
       "min        0.000000      0.000000      0.000000      0.000000      0.000000   \n",
       "25%        0.000000      0.000000      1.000000      1.000000      1.000000   \n",
       "50%        0.000000      0.000000      1.000000      1.000000      1.000000   \n",
       "75%        0.000000      0.111111      1.000000      1.000000      1.000000   \n",
       "max        1.000000      1.000000      1.000000      1.000000      1.000000   \n",
       "\n",
       "                345  \n",
       "count  30500.000000  \n",
       "mean       0.626230  \n",
       "std        0.483812  \n",
       "min        0.000000  \n",
       "25%        0.000000  \n",
       "50%        1.000000  \n",
       "75%        1.000000  \n",
       "max        1.000000  \n",
       "\n",
       "[8 rows x 346 columns]"
      ]
     },
     "execution_count": 6,
     "metadata": {},
     "output_type": "execute_result"
    }
   ],
   "source": [
    "train.describe()"
   ]
  },
  {
   "cell_type": "code",
   "execution_count": 7,
   "metadata": {},
   "outputs": [
    {
     "data": {
      "text/html": [
       "<div>\n",
       "<style scoped>\n",
       "    .dataframe tbody tr th:only-of-type {\n",
       "        vertical-align: middle;\n",
       "    }\n",
       "\n",
       "    .dataframe tbody tr th {\n",
       "        vertical-align: top;\n",
       "    }\n",
       "\n",
       "    .dataframe thead th {\n",
       "        text-align: right;\n",
       "    }\n",
       "</style>\n",
       "<table border=\"1\" class=\"dataframe\">\n",
       "  <thead>\n",
       "    <tr style=\"text-align: right;\">\n",
       "      <th></th>\n",
       "      <th>0</th>\n",
       "      <th>1</th>\n",
       "      <th>2</th>\n",
       "      <th>3</th>\n",
       "      <th>4</th>\n",
       "      <th>5</th>\n",
       "      <th>6</th>\n",
       "      <th>7</th>\n",
       "      <th>8</th>\n",
       "      <th>9</th>\n",
       "      <th>...</th>\n",
       "      <th>336</th>\n",
       "      <th>337</th>\n",
       "      <th>338</th>\n",
       "      <th>339</th>\n",
       "      <th>340</th>\n",
       "      <th>341</th>\n",
       "      <th>342</th>\n",
       "      <th>343</th>\n",
       "      <th>344</th>\n",
       "      <th>345</th>\n",
       "    </tr>\n",
       "  </thead>\n",
       "  <tbody>\n",
       "    <tr>\n",
       "      <th>count</th>\n",
       "      <td>0.0</td>\n",
       "      <td>4166.000000</td>\n",
       "      <td>4166.000000</td>\n",
       "      <td>4166.000000</td>\n",
       "      <td>4166.000000</td>\n",
       "      <td>4166.0</td>\n",
       "      <td>4166.000000</td>\n",
       "      <td>4166.000000</td>\n",
       "      <td>4166.000000</td>\n",
       "      <td>4166.000000</td>\n",
       "      <td>...</td>\n",
       "      <td>4166.000000</td>\n",
       "      <td>4166.000000</td>\n",
       "      <td>4166.000000</td>\n",
       "      <td>4166.000000</td>\n",
       "      <td>4166.000000</td>\n",
       "      <td>4166.000000</td>\n",
       "      <td>4166.000000</td>\n",
       "      <td>4166.000000</td>\n",
       "      <td>4166.000000</td>\n",
       "      <td>4166.000000</td>\n",
       "    </tr>\n",
       "    <tr>\n",
       "      <th>mean</th>\n",
       "      <td>NaN</td>\n",
       "      <td>0.976716</td>\n",
       "      <td>0.022564</td>\n",
       "      <td>0.000720</td>\n",
       "      <td>0.445751</td>\n",
       "      <td>0.0</td>\n",
       "      <td>0.000480</td>\n",
       "      <td>0.096365</td>\n",
       "      <td>0.003361</td>\n",
       "      <td>0.022564</td>\n",
       "      <td>...</td>\n",
       "      <td>0.304146</td>\n",
       "      <td>0.491839</td>\n",
       "      <td>0.401584</td>\n",
       "      <td>0.049928</td>\n",
       "      <td>0.000720</td>\n",
       "      <td>0.088868</td>\n",
       "      <td>0.965194</td>\n",
       "      <td>0.985358</td>\n",
       "      <td>0.951992</td>\n",
       "      <td>0.617619</td>\n",
       "    </tr>\n",
       "    <tr>\n",
       "      <th>std</th>\n",
       "      <td>NaN</td>\n",
       "      <td>0.150821</td>\n",
       "      <td>0.148525</td>\n",
       "      <td>0.026829</td>\n",
       "      <td>0.497108</td>\n",
       "      <td>0.0</td>\n",
       "      <td>0.021908</td>\n",
       "      <td>0.023402</td>\n",
       "      <td>0.057880</td>\n",
       "      <td>0.148525</td>\n",
       "      <td>...</td>\n",
       "      <td>0.128061</td>\n",
       "      <td>0.499993</td>\n",
       "      <td>0.490278</td>\n",
       "      <td>0.217822</td>\n",
       "      <td>0.026829</td>\n",
       "      <td>0.167693</td>\n",
       "      <td>0.183309</td>\n",
       "      <td>0.120131</td>\n",
       "      <td>0.213808</td>\n",
       "      <td>0.486027</td>\n",
       "    </tr>\n",
       "    <tr>\n",
       "      <th>min</th>\n",
       "      <td>NaN</td>\n",
       "      <td>0.000000</td>\n",
       "      <td>0.000000</td>\n",
       "      <td>0.000000</td>\n",
       "      <td>0.000000</td>\n",
       "      <td>0.0</td>\n",
       "      <td>0.000000</td>\n",
       "      <td>0.045455</td>\n",
       "      <td>0.000000</td>\n",
       "      <td>0.000000</td>\n",
       "      <td>...</td>\n",
       "      <td>0.000000</td>\n",
       "      <td>0.000000</td>\n",
       "      <td>0.000000</td>\n",
       "      <td>0.000000</td>\n",
       "      <td>0.000000</td>\n",
       "      <td>0.000000</td>\n",
       "      <td>0.000000</td>\n",
       "      <td>0.000000</td>\n",
       "      <td>0.000000</td>\n",
       "      <td>0.000000</td>\n",
       "    </tr>\n",
       "    <tr>\n",
       "      <th>25%</th>\n",
       "      <td>NaN</td>\n",
       "      <td>1.000000</td>\n",
       "      <td>0.000000</td>\n",
       "      <td>0.000000</td>\n",
       "      <td>0.000000</td>\n",
       "      <td>0.0</td>\n",
       "      <td>0.000000</td>\n",
       "      <td>0.090909</td>\n",
       "      <td>0.000000</td>\n",
       "      <td>0.000000</td>\n",
       "      <td>...</td>\n",
       "      <td>0.180948</td>\n",
       "      <td>0.000000</td>\n",
       "      <td>0.000000</td>\n",
       "      <td>0.000000</td>\n",
       "      <td>0.000000</td>\n",
       "      <td>0.000000</td>\n",
       "      <td>1.000000</td>\n",
       "      <td>1.000000</td>\n",
       "      <td>1.000000</td>\n",
       "      <td>0.000000</td>\n",
       "    </tr>\n",
       "    <tr>\n",
       "      <th>50%</th>\n",
       "      <td>NaN</td>\n",
       "      <td>1.000000</td>\n",
       "      <td>0.000000</td>\n",
       "      <td>0.000000</td>\n",
       "      <td>0.000000</td>\n",
       "      <td>0.0</td>\n",
       "      <td>0.000000</td>\n",
       "      <td>0.090909</td>\n",
       "      <td>0.000000</td>\n",
       "      <td>0.000000</td>\n",
       "      <td>...</td>\n",
       "      <td>0.281274</td>\n",
       "      <td>0.000000</td>\n",
       "      <td>0.000000</td>\n",
       "      <td>0.000000</td>\n",
       "      <td>0.000000</td>\n",
       "      <td>0.000000</td>\n",
       "      <td>1.000000</td>\n",
       "      <td>1.000000</td>\n",
       "      <td>1.000000</td>\n",
       "      <td>1.000000</td>\n",
       "    </tr>\n",
       "    <tr>\n",
       "      <th>75%</th>\n",
       "      <td>NaN</td>\n",
       "      <td>1.000000</td>\n",
       "      <td>0.000000</td>\n",
       "      <td>0.000000</td>\n",
       "      <td>1.000000</td>\n",
       "      <td>0.0</td>\n",
       "      <td>0.000000</td>\n",
       "      <td>0.090909</td>\n",
       "      <td>0.000000</td>\n",
       "      <td>0.000000</td>\n",
       "      <td>...</td>\n",
       "      <td>0.450414</td>\n",
       "      <td>1.000000</td>\n",
       "      <td>1.000000</td>\n",
       "      <td>0.000000</td>\n",
       "      <td>0.000000</td>\n",
       "      <td>0.111111</td>\n",
       "      <td>1.000000</td>\n",
       "      <td>1.000000</td>\n",
       "      <td>1.000000</td>\n",
       "      <td>1.000000</td>\n",
       "    </tr>\n",
       "    <tr>\n",
       "      <th>max</th>\n",
       "      <td>NaN</td>\n",
       "      <td>1.000000</td>\n",
       "      <td>1.000000</td>\n",
       "      <td>1.000000</td>\n",
       "      <td>1.000000</td>\n",
       "      <td>0.0</td>\n",
       "      <td>1.000000</td>\n",
       "      <td>0.454545</td>\n",
       "      <td>1.000000</td>\n",
       "      <td>1.000000</td>\n",
       "      <td>...</td>\n",
       "      <td>1.000000</td>\n",
       "      <td>1.000000</td>\n",
       "      <td>1.000000</td>\n",
       "      <td>1.000000</td>\n",
       "      <td>1.000000</td>\n",
       "      <td>1.000000</td>\n",
       "      <td>1.000000</td>\n",
       "      <td>1.000000</td>\n",
       "      <td>1.000000</td>\n",
       "      <td>1.000000</td>\n",
       "    </tr>\n",
       "  </tbody>\n",
       "</table>\n",
       "<p>8 rows × 346 columns</p>\n",
       "</div>"
      ],
      "text/plain": [
       "         0            1            2            3            4       5  \\\n",
       "count  0.0  4166.000000  4166.000000  4166.000000  4166.000000  4166.0   \n",
       "mean   NaN     0.976716     0.022564     0.000720     0.445751     0.0   \n",
       "std    NaN     0.150821     0.148525     0.026829     0.497108     0.0   \n",
       "min    NaN     0.000000     0.000000     0.000000     0.000000     0.0   \n",
       "25%    NaN     1.000000     0.000000     0.000000     0.000000     0.0   \n",
       "50%    NaN     1.000000     0.000000     0.000000     0.000000     0.0   \n",
       "75%    NaN     1.000000     0.000000     0.000000     1.000000     0.0   \n",
       "max    NaN     1.000000     1.000000     1.000000     1.000000     0.0   \n",
       "\n",
       "                 6            7            8            9     ...       \\\n",
       "count  4166.000000  4166.000000  4166.000000  4166.000000     ...        \n",
       "mean      0.000480     0.096365     0.003361     0.022564     ...        \n",
       "std       0.021908     0.023402     0.057880     0.148525     ...        \n",
       "min       0.000000     0.045455     0.000000     0.000000     ...        \n",
       "25%       0.000000     0.090909     0.000000     0.000000     ...        \n",
       "50%       0.000000     0.090909     0.000000     0.000000     ...        \n",
       "75%       0.000000     0.090909     0.000000     0.000000     ...        \n",
       "max       1.000000     0.454545     1.000000     1.000000     ...        \n",
       "\n",
       "               336          337          338          339          340  \\\n",
       "count  4166.000000  4166.000000  4166.000000  4166.000000  4166.000000   \n",
       "mean      0.304146     0.491839     0.401584     0.049928     0.000720   \n",
       "std       0.128061     0.499993     0.490278     0.217822     0.026829   \n",
       "min       0.000000     0.000000     0.000000     0.000000     0.000000   \n",
       "25%       0.180948     0.000000     0.000000     0.000000     0.000000   \n",
       "50%       0.281274     0.000000     0.000000     0.000000     0.000000   \n",
       "75%       0.450414     1.000000     1.000000     0.000000     0.000000   \n",
       "max       1.000000     1.000000     1.000000     1.000000     1.000000   \n",
       "\n",
       "               341          342          343          344          345  \n",
       "count  4166.000000  4166.000000  4166.000000  4166.000000  4166.000000  \n",
       "mean      0.088868     0.965194     0.985358     0.951992     0.617619  \n",
       "std       0.167693     0.183309     0.120131     0.213808     0.486027  \n",
       "min       0.000000     0.000000     0.000000     0.000000     0.000000  \n",
       "25%       0.000000     1.000000     1.000000     1.000000     0.000000  \n",
       "50%       0.000000     1.000000     1.000000     1.000000     1.000000  \n",
       "75%       0.111111     1.000000     1.000000     1.000000     1.000000  \n",
       "max       1.000000     1.000000     1.000000     1.000000     1.000000  \n",
       "\n",
       "[8 rows x 346 columns]"
      ]
     },
     "execution_count": 7,
     "metadata": {},
     "output_type": "execute_result"
    }
   ],
   "source": [
    "test.describe()"
   ]
  },
  {
   "cell_type": "code",
   "execution_count": 5,
   "metadata": {},
   "outputs": [],
   "source": [
    "all_data = pd.concat([train, test])"
   ]
  },
  {
   "cell_type": "code",
   "execution_count": 9,
   "metadata": {},
   "outputs": [],
   "source": [
    "# nans and column types, ?correlation\n",
    "# similarities test and train"
   ]
  },
  {
   "cell_type": "code",
   "execution_count": 10,
   "metadata": {},
   "outputs": [
    {
     "data": {
      "text/plain": [
       "<matplotlib.axes._subplots.AxesSubplot at 0x7f1f6d3011d0>"
      ]
     },
     "execution_count": 10,
     "metadata": {},
     "output_type": "execute_result"
    },
    {
     "data": {
      "image/png": "[encoded data removed]",
      "text/plain": [
       "<Figure size 432x288 with 2 Axes>"
      ]
     },
     "metadata": {},
     "output_type": "display_data"
    }
   ],
   "source": [
    "corr_tr = train.corr()\n",
    "cols = train.columns\n",
    "sns.heatmap(corr_tr, \n",
    "        xticklabels=cols,\n",
    "        yticklabels=cols)"
   ]
  },
  {
   "cell_type": "code",
   "execution_count": 11,
   "metadata": {},
   "outputs": [
    {
     "data": {
      "text/plain": [
       "<matplotlib.axes._subplots.AxesSubplot at 0x7f1f6a91fe48>"
      ]
     },
     "execution_count": 11,
     "metadata": {},
     "output_type": "execute_result"
    },
    {
     "data": {
      "image/png": "[encoded data removed]",
      "text/plain": [
       "<Figure size 432x288 with 2 Axes>"
      ]
     },
     "metadata": {},
     "output_type": "display_data"
    }
   ],
   "source": [
    "corr_test = test.corr()\n",
    "cols = test.columns\n",
    "sns.heatmap(corr_test, \n",
    "        xticklabels=cols,\n",
    "        yticklabels=cols)"
   ]
  },
  {
   "cell_type": "code",
   "execution_count": 6,
   "metadata": {},
   "outputs": [
    {
     "name": "stdout",
     "output_type": "stream",
     "text": [
      "one_value: 2\n",
      "binary: 237\n",
      "other: 106\n"
     ]
    }
   ],
   "source": [
    "one_value = []\n",
    "binary = []\n",
    "other = []\n",
    "\n",
    "\n",
    "for x in all_data.columns:\n",
    "    l = len(all_data[x].unique())\n",
    "    \n",
    "    if x == '0':\n",
    "        continue\n",
    "    \n",
    "    # columns that contains only one possible value\n",
    "    if l == 1:\n",
    "        one_value.append(x)\n",
    "        \n",
    "    if l == 2:\n",
    "        binary.append(x)\n",
    "        \n",
    "    if l >= 3:\n",
    "        other.append(x)\n",
    "        \n",
    "print(\"one_value: {}\".format(len(one_value)))\n",
    "print(\"binary: {}\".format(len(binary)))\n",
    "print(\"other: {}\".format(len(other)))"
   ]
  },
  {
   "cell_type": "code",
   "execution_count": 7,
   "metadata": {},
   "outputs": [
    {
     "data": {
      "text/plain": [
       "17   153    1.000000\n",
       "153  17     1.000000\n",
       "2    9      1.000000\n",
       "9    2      1.000000\n",
       "324  333    0.996389\n",
       "333  324    0.996389\n",
       "22   165    0.996274\n",
       "165  22     0.996274\n",
       "1    2      0.996200\n",
       "     9      0.996200\n",
       "2    1      0.996200\n",
       "9    1      0.996200\n",
       "334  327    0.994030\n",
       "327  334    0.994030\n",
       "26   180    0.993851\n",
       "180  26     0.993851\n",
       "335  333    0.991015\n",
       "333  335    0.991015\n",
       "329  328    0.990925\n",
       "328  329    0.990925\n",
       "dtype: float64"
      ]
     },
     "execution_count": 7,
     "metadata": {},
     "output_type": "execute_result"
    }
   ],
   "source": [
    "c = train.corr().abs()\n",
    "\n",
    "np.fill_diagonal(c.values, 0)\n",
    "s = c.unstack()\n",
    "so = s.sort_values(ascending=False, kind=\"quicksort\")\n",
    "\n",
    "so.head(20)"
   ]
  },
  {
   "cell_type": "code",
   "execution_count": 14,
   "metadata": {},
   "outputs": [
    {
     "data": {
      "text/plain": [
       "2    9      1.000000\n",
       "9    2      1.000000\n",
       "165  22     0.997743\n",
       "22   165    0.997743\n",
       "324  333    0.996306\n",
       "333  324    0.996306\n",
       "329  328    0.995126\n",
       "328  329    0.995126\n",
       "334  327    0.993863\n",
       "327  334    0.993863\n",
       "115  122    0.990627\n",
       "122  115    0.990627\n",
       "333  335    0.990626\n",
       "335  333    0.990626\n",
       "     298    0.987123\n",
       "298  335    0.987123\n",
       "319  325    0.985500\n",
       "325  319    0.985500\n",
       "9    1      0.984052\n",
       "2    1      0.984052\n",
       "dtype: float64"
      ]
     },
     "execution_count": 14,
     "metadata": {},
     "output_type": "execute_result"
    }
   ],
   "source": [
    "c = test.corr().abs()\n",
    "\n",
    "np.fill_diagonal(c.values, 0)\n",
    "s = c.unstack()\n",
    "so = s.sort_values(ascending=False, kind=\"quicksort\")\n",
    "\n",
    "so.head(20)"
   ]
  },
  {
   "cell_type": "code",
   "execution_count": 15,
   "metadata": {},
   "outputs": [
    {
     "data": {
      "text/plain": [
       "2    9      1.000000\n",
       "9    2      1.000000\n",
       "165  22     0.996466\n",
       "22   165    0.996466\n",
       "333  324    0.996379\n",
       "324  333    0.996379\n",
       "17   153    0.994973\n",
       "153  17     0.994973\n",
       "1    9      0.994681\n",
       "     2      0.994681\n",
       "2    1      0.994681\n",
       "9    1      0.994681\n",
       "327  334    0.994010\n",
       "334  327    0.994010\n",
       "180  26     0.991542\n",
       "26   180    0.991542\n",
       "329  328    0.991426\n",
       "328  329    0.991426\n",
       "335  333    0.990968\n",
       "333  335    0.990968\n",
       "dtype: float64"
      ]
     },
     "execution_count": 15,
     "metadata": {},
     "output_type": "execute_result"
    }
   ],
   "source": [
    "c = all_data.corr().abs()\n",
    "\n",
    "np.fill_diagonal(c.values, 0)\n",
    "s = c.unstack()\n",
    "so = s.sort_values(ascending=False, kind=\"quicksort\")\n",
    "\n",
    "so.head(20)"
   ]
  },
  {
   "cell_type": "code",
   "execution_count": 8,
   "metadata": {},
   "outputs": [
    {
     "data": {
      "text/plain": [
       "['0']"
      ]
     },
     "execution_count": 8,
     "metadata": {},
     "output_type": "execute_result"
    }
   ],
   "source": [
    "# check for missing data\n",
    "all_data.columns[all_data.isna().any()].tolist()\n",
    "# everything is clear"
   ]
  },
  {
   "cell_type": "markdown",
   "metadata": {},
   "source": [
    "### drop\n",
    "---"
   ]
  },
  {
   "cell_type": "code",
   "execution_count": 9,
   "metadata": {},
   "outputs": [],
   "source": [
    "all_data = all_data.drop(one_value + ['9'], axis=1)"
   ]
  },
  {
   "cell_type": "code",
   "execution_count": 10,
   "metadata": {},
   "outputs": [
    {
     "data": {
      "text/plain": [
       "'9'"
      ]
     },
     "execution_count": 10,
     "metadata": {},
     "output_type": "execute_result"
    }
   ],
   "source": [
    "binary.pop(binary.index('9'))"
   ]
  },
  {
   "cell_type": "code",
   "execution_count": 11,
   "metadata": {},
   "outputs": [],
   "source": [
    "train =  all_data[all_data['0'].isnull() == False]\n",
    "test =  all_data[all_data['0'].isnull()]\n",
    "\n",
    "test = test.drop(['0'], axis=1)"
   ]
  },
  {
   "cell_type": "markdown",
   "metadata": {},
   "source": [
    "### PCA?\n",
    "---"
   ]
  },
  {
   "cell_type": "code",
   "execution_count": 19,
   "metadata": {},
   "outputs": [],
   "source": [
    "# target = all_data['0']\n",
    "# all_data = all_data.drop('0', axis=1)"
   ]
  },
  {
   "cell_type": "code",
   "execution_count": 17,
   "metadata": {},
   "outputs": [],
   "source": [
    "# from sklearn import decomposition"
   ]
  },
  {
   "cell_type": "code",
   "execution_count": 18,
   "metadata": {},
   "outputs": [],
   "source": [
    "# temp_ad = all_data.drop('0', axis=1)[other]"
   ]
  },
  {
   "cell_type": "code",
   "execution_count": 30,
   "metadata": {},
   "outputs": [],
   "source": [
    "# pca = decomposition.PCA(n_components=40)\n",
    "# pca = pca.fit(temp_ad)"
   ]
  },
  {
   "cell_type": "code",
   "execution_count": 31,
   "metadata": {},
   "outputs": [
    {
     "data": {
      "text/plain": [
       "0.9568389697179938"
      ]
     },
     "execution_count": 31,
     "metadata": {},
     "output_type": "execute_result"
    }
   ],
   "source": [
    "# pca.explained_variance_ratio_.sum()"
   ]
  },
  {
   "cell_type": "code",
   "execution_count": 23,
   "metadata": {},
   "outputs": [],
   "source": [
    "# pca_data"
   ]
  },
  {
   "cell_type": "markdown",
   "metadata": {},
   "source": [
    "---"
   ]
  },
  {
   "cell_type": "code",
   "execution_count": 20,
   "metadata": {},
   "outputs": [],
   "source": [
    "from sklearn.model_selection import GridSearchCV # StratifiedKFold"
   ]
  },
  {
   "cell_type": "code",
   "execution_count": 14,
   "metadata": {},
   "outputs": [],
   "source": [
    "target = train['0']\n",
    "train = train.drop('0', axis=1)"
   ]
  },
  {
   "cell_type": "markdown",
   "metadata": {},
   "source": [
    "# 2. Logistic Regression\n",
    "---"
   ]
  },
  {
   "cell_type": "code",
   "execution_count": 80,
   "metadata": {},
   "outputs": [],
   "source": [
    "from sklearn.linear_model import LogisticRegression"
   ]
  },
  {
   "cell_type": "code",
   "execution_count": 81,
   "metadata": {},
   "outputs": [],
   "source": [
    "lg = LogisticRegression()"
   ]
  },
  {
   "cell_type": "code",
   "execution_count": 14,
   "metadata": {},
   "outputs": [],
   "source": [
    "parameters = {\n",
    "    \"C\": [0.5, 0.8, 1, 1.5],\n",
    "    \"class_weight\": [None, 'balanced']\n",
    "}\n",
    "\n",
    "clf = GridSearchCV(lg, parameters, cv=5, scoring='roc_auc')"
   ]
  },
  {
   "cell_type": "code",
   "execution_count": 15,
   "metadata": {},
   "outputs": [
    {
     "name": "stdout",
     "output_type": "stream",
     "text": [
      "CPU times: user 31.1 s, sys: 11.1 s, total: 42.2 s\n",
      "Wall time: 31.8 s\n"
     ]
    },
    {
     "data": {
      "text/plain": [
       "GridSearchCV(cv=5, error_score='raise',\n",
       "       estimator=LogisticRegression(C=1.0, class_weight=None, dual=False, fit_intercept=True,\n",
       "          intercept_scaling=1, max_iter=100, multi_class='ovr', n_jobs=1,\n",
       "          penalty='l2', random_state=None, solver='liblinear', tol=0.0001,\n",
       "          verbose=0, warm_start=False),\n",
       "       fit_params=None, iid=True, n_jobs=1,\n",
       "       param_grid={'C': [0.5, 0.8, 1, 1.5], 'class_weight': [None, 'balanced']},\n",
       "       pre_dispatch='2*n_jobs', refit=True, return_train_score='warn',\n",
       "       scoring='roc_auc', verbose=0)"
      ]
     },
     "execution_count": 15,
     "metadata": {},
     "output_type": "execute_result"
    }
   ],
   "source": [
    "# %time clf.fit(train[binary], target)"
   ]
  },
  {
   "cell_type": "code",
   "execution_count": 31,
   "metadata": {},
   "outputs": [
    {
     "name": "stdout",
     "output_type": "stream",
     "text": [
      "CPU times: user 1min 20s, sys: 15.5 s, total: 1min 36s\n",
      "Wall time: 1min 21s\n"
     ]
    },
    {
     "data": {
      "text/plain": [
       "GridSearchCV(cv=5, error_score='raise',\n",
       "       estimator=LogisticRegression(C=1.0, class_weight=None, dual=False, fit_intercept=True,\n",
       "          intercept_scaling=1, max_iter=100, multi_class='ovr', n_jobs=1,\n",
       "          penalty='l2', random_state=None, solver='liblinear', tol=0.0001,\n",
       "          verbose=0, warm_start=False),\n",
       "       fit_params=None, iid=True, n_jobs=1,\n",
       "       param_grid={'C': [0.5, 0.8, 1, 1.5], 'class_weight': [None, 'balanced']},\n",
       "       pre_dispatch='2*n_jobs', refit=True, return_train_score='warn',\n",
       "       scoring='roc_auc', verbose=0)"
      ]
     },
     "execution_count": 31,
     "metadata": {},
     "output_type": "execute_result"
    }
   ],
   "source": [
    "%time clf.fit(train, target)"
   ]
  },
  {
   "cell_type": "code",
   "execution_count": 32,
   "metadata": {},
   "outputs": [
    {
     "name": "stdout",
     "output_type": "stream",
     "text": [
      "0.7260136243352258\n",
      "LogisticRegression(C=0.5, class_weight=None, dual=False, fit_intercept=True,\n",
      "          intercept_scaling=1, max_iter=100, multi_class='ovr', n_jobs=1,\n",
      "          penalty='l2', random_state=None, solver='liblinear', tol=0.0001,\n",
      "          verbose=0, warm_start=False)\n"
     ]
    }
   ],
   "source": [
    "print(clf.best_score_)\n",
    "print(clf.best_estimator_)"
   ]
  },
  {
   "cell_type": "code",
   "execution_count": 33,
   "metadata": {},
   "outputs": [],
   "source": [
    "# import eli5\n",
    "# eli5.show_weights(clf.best_estimator_, top=10)"
   ]
  },
  {
   "cell_type": "markdown",
   "metadata": {},
   "source": [
    "### submit\n",
    "---"
   ]
  },
  {
   "cell_type": "code",
   "execution_count": 34,
   "metadata": {},
   "outputs": [],
   "source": [
    "test_pred = clf.best_estimator_.predict_proba(test)[:,1]"
   ]
  },
  {
   "cell_type": "code",
   "execution_count": 35,
   "metadata": {},
   "outputs": [],
   "source": [
    "submit = test.copy()\n",
    "submit = submit.drop(test.columns, axis=1)\n",
    "submit['_ID_'] = submit.index\n",
    "submit['_VAL_'] = test_pred"
   ]
  },
  {
   "cell_type": "code",
   "execution_count": 36,
   "metadata": {},
   "outputs": [
    {
     "data": {
      "text/html": [
       "<div>\n",
       "<style scoped>\n",
       "    .dataframe tbody tr th:only-of-type {\n",
       "        vertical-align: middle;\n",
       "    }\n",
       "\n",
       "    .dataframe tbody tr th {\n",
       "        vertical-align: top;\n",
       "    }\n",
       "\n",
       "    .dataframe thead th {\n",
       "        text-align: right;\n",
       "    }\n",
       "</style>\n",
       "<table border=\"1\" class=\"dataframe\">\n",
       "  <thead>\n",
       "    <tr style=\"text-align: right;\">\n",
       "      <th></th>\n",
       "      <th>_ID_</th>\n",
       "      <th>_VAL_</th>\n",
       "    </tr>\n",
       "  </thead>\n",
       "  <tbody>\n",
       "    <tr>\n",
       "      <th>0</th>\n",
       "      <td>0</td>\n",
       "      <td>0.089038</td>\n",
       "    </tr>\n",
       "    <tr>\n",
       "      <th>1</th>\n",
       "      <td>1</td>\n",
       "      <td>0.473750</td>\n",
       "    </tr>\n",
       "    <tr>\n",
       "      <th>2</th>\n",
       "      <td>2</td>\n",
       "      <td>0.193461</td>\n",
       "    </tr>\n",
       "    <tr>\n",
       "      <th>3</th>\n",
       "      <td>3</td>\n",
       "      <td>0.350678</td>\n",
       "    </tr>\n",
       "    <tr>\n",
       "      <th>4</th>\n",
       "      <td>4</td>\n",
       "      <td>0.448836</td>\n",
       "    </tr>\n",
       "  </tbody>\n",
       "</table>\n",
       "</div>"
      ],
      "text/plain": [
       "   _ID_     _VAL_\n",
       "0     0  0.089038\n",
       "1     1  0.473750\n",
       "2     2  0.193461\n",
       "3     3  0.350678\n",
       "4     4  0.448836"
      ]
     },
     "execution_count": 36,
     "metadata": {},
     "output_type": "execute_result"
    }
   ],
   "source": [
    "submit.head()"
   ]
  },
  {
   "cell_type": "code",
   "execution_count": 37,
   "metadata": {},
   "outputs": [],
   "source": [
    "submit.to_csv('submissions/logreg.csv', index=False)"
   ]
  },
  {
   "cell_type": "markdown",
   "metadata": {},
   "source": [
    "---"
   ]
  },
  {
   "cell_type": "markdown",
   "metadata": {},
   "source": [
    "# 3. LogReg Bagging\n",
    "---"
   ]
  },
  {
   "cell_type": "code",
   "execution_count": 82,
   "metadata": {},
   "outputs": [],
   "source": [
    "from sklearn.ensemble import BaggingClassifier\n",
    "from sklearn.model_selection import RandomizedSearchCV, StratifiedKFold"
   ]
  },
  {
   "cell_type": "code",
   "execution_count": 4,
   "metadata": {},
   "outputs": [],
   "source": [
    "skf = StratifiedKFold(shuffle=True, random_state=42)"
   ]
  },
  {
   "cell_type": "code",
   "execution_count": 141,
   "metadata": {},
   "outputs": [],
   "source": [
    "parameters = {'max_features': [0.5, 0.7, 0.9, 1.],\n",
    "              'max_samples': [0.5, 0.7, 0.9, 1.],\n",
    "              \"base_estimator__C\": [0.5, 0.8, 1, 1.5],\n",
    "              \"base_estimator__class_weight\": [None, 'balanced']\n",
    "             }\n",
    "bg = BaggingClassifier(lg, random_state=42, n_estimators=25)"
   ]
  },
  {
   "cell_type": "code",
   "execution_count": 41,
   "metadata": {},
   "outputs": [],
   "source": [
    "rclf = RandomizedSearchCV(bg, parameters, scoring ='roc_auc', n_iter=10, cv=skf, random_state=1)"
   ]
  },
  {
   "cell_type": "code",
   "execution_count": 42,
   "metadata": {},
   "outputs": [
    {
     "name": "stdout",
     "output_type": "stream",
     "text": [
      "CPU times: user 15min 50s, sys: 1min 1s, total: 16min 52s\n",
      "Wall time: 16min 11s\n"
     ]
    },
    {
     "data": {
      "text/plain": [
       "RandomizedSearchCV(cv=StratifiedKFold(n_splits=3, random_state=42, shuffle=True),\n",
       "          error_score='raise',\n",
       "          estimator=BaggingClassifier(base_estimator=LogisticRegression(C=1.0, class_weight=None, dual=False, fit_intercept=True,\n",
       "          intercept_scaling=1, max_iter=100, multi_class='ovr', n_jobs=1,\n",
       "          penalty='l2', random_state=None, solver='liblinear', tol=0.0001,\n",
       "          verbose=0, warm_start..., n_estimators=25, n_jobs=1, oob_score=False,\n",
       "         random_state=42, verbose=0, warm_start=False),\n",
       "          fit_params=None, iid=True, n_iter=10, n_jobs=1,\n",
       "          param_distributions={'max_features': [0.5, 0.7, 0.9, 1.0], 'max_samples': [0.5, 0.7, 0.9, 1.0], 'base_estimator__C': [0.5, 0.8, 1, 1.5], 'base_estimator__class_weight': [None, 'balanced']},\n",
       "          pre_dispatch='2*n_jobs', random_state=1, refit=True,\n",
       "          return_train_score='warn', scoring='roc_auc', verbose=0)"
      ]
     },
     "execution_count": 42,
     "metadata": {},
     "output_type": "execute_result"
    }
   ],
   "source": [
    "%time rclf.fit(train, target)"
   ]
  },
  {
   "cell_type": "code",
   "execution_count": 43,
   "metadata": {},
   "outputs": [
    {
     "name": "stdout",
     "output_type": "stream",
     "text": [
      "0.7245147882251068\n",
      "BaggingClassifier(base_estimator=LogisticRegression(C=0.8, class_weight='balanced', dual=False,\n",
      "          fit_intercept=True, intercept_scaling=1, max_iter=100,\n",
      "          multi_class='ovr', n_jobs=1, penalty='l2', random_state=None,\n",
      "          solver='liblinear', tol=0.0001, verbose=0, warm_start=False),\n",
      "         bootstrap=True, bootstrap_features=False, max_features=0.7,\n",
      "         max_samples=1.0, n_estimators=25, n_jobs=1, oob_score=False,\n",
      "         random_state=42, verbose=0, warm_start=False)\n"
     ]
    }
   ],
   "source": [
    "print(rclf.best_score_)\n",
    "print(rclf.best_estimator_)"
   ]
  },
  {
   "cell_type": "code",
   "execution_count": 45,
   "metadata": {},
   "outputs": [],
   "source": [
    "# y_valid_pred = rclf.best_estimator_.predict_proba(X_valid)[:,1]\n",
    "# roc_auc_score(y_valid, y_valid_pred)"
   ]
  },
  {
   "cell_type": "markdown",
   "metadata": {},
   "source": [
    "# submit\n",
    "---"
   ]
  },
  {
   "cell_type": "code",
   "execution_count": 44,
   "metadata": {},
   "outputs": [],
   "source": [
    "test_pred = rclf.best_estimator_.predict_proba(test)[:,1]"
   ]
  },
  {
   "cell_type": "code",
   "execution_count": 46,
   "metadata": {},
   "outputs": [],
   "source": [
    "submit = test.copy()\n",
    "submit = submit.drop(test.columns, axis=1)\n",
    "submit['_ID_'] = submit.index\n",
    "submit['_VAL_'] = test_pred"
   ]
  },
  {
   "cell_type": "code",
   "execution_count": 47,
   "metadata": {},
   "outputs": [
    {
     "data": {
      "text/html": [
       "<div>\n",
       "<style scoped>\n",
       "    .dataframe tbody tr th:only-of-type {\n",
       "        vertical-align: middle;\n",
       "    }\n",
       "\n",
       "    .dataframe tbody tr th {\n",
       "        vertical-align: top;\n",
       "    }\n",
       "\n",
       "    .dataframe thead th {\n",
       "        text-align: right;\n",
       "    }\n",
       "</style>\n",
       "<table border=\"1\" class=\"dataframe\">\n",
       "  <thead>\n",
       "    <tr style=\"text-align: right;\">\n",
       "      <th></th>\n",
       "      <th>_ID_</th>\n",
       "      <th>_VAL_</th>\n",
       "    </tr>\n",
       "  </thead>\n",
       "  <tbody>\n",
       "    <tr>\n",
       "      <th>0</th>\n",
       "      <td>0</td>\n",
       "      <td>0.308867</td>\n",
       "    </tr>\n",
       "    <tr>\n",
       "      <th>1</th>\n",
       "      <td>1</td>\n",
       "      <td>0.807971</td>\n",
       "    </tr>\n",
       "    <tr>\n",
       "      <th>2</th>\n",
       "      <td>2</td>\n",
       "      <td>0.452123</td>\n",
       "    </tr>\n",
       "    <tr>\n",
       "      <th>3</th>\n",
       "      <td>3</td>\n",
       "      <td>0.718798</td>\n",
       "    </tr>\n",
       "    <tr>\n",
       "      <th>4</th>\n",
       "      <td>4</td>\n",
       "      <td>0.773194</td>\n",
       "    </tr>\n",
       "  </tbody>\n",
       "</table>\n",
       "</div>"
      ],
      "text/plain": [
       "   _ID_     _VAL_\n",
       "0     0  0.308867\n",
       "1     1  0.807971\n",
       "2     2  0.452123\n",
       "3     3  0.718798\n",
       "4     4  0.773194"
      ]
     },
     "execution_count": 47,
     "metadata": {},
     "output_type": "execute_result"
    }
   ],
   "source": [
    "submit.head()"
   ]
  },
  {
   "cell_type": "code",
   "execution_count": 48,
   "metadata": {},
   "outputs": [],
   "source": [
    "submit.to_csv('submissions/logreg_bagging.csv', index=False)"
   ]
  },
  {
   "cell_type": "markdown",
   "metadata": {},
   "source": [
    "---"
   ]
  },
  {
   "cell_type": "markdown",
   "metadata": {},
   "source": [
    "# 4. Random forest\n",
    "---"
   ]
  },
  {
   "cell_type": "code",
   "execution_count": 86,
   "metadata": {},
   "outputs": [],
   "source": [
    "from sklearn.ensemble import RandomForestClassifier"
   ]
  },
  {
   "cell_type": "code",
   "execution_count": 33,
   "metadata": {},
   "outputs": [],
   "source": [
    "parameters = {'max_features': ['auto', 'sqrt', 0.4, 0.8],\n",
    "              'min_samples_leaf': [1, 2, 5],\n",
    "              \"max_depth\": [None, 4, 7],\n",
    "              \"n_estimators\": [50, 100, 200]\n",
    "             }\n",
    "\n",
    "skf = StratifiedKFold(n_splits=3, shuffle=True, random_state=42)\n",
    "rfc = RandomForestClassifier(random_state=42, n_jobs=-1)# , oob_score=True\n",
    "rfcv = GridSearchCV(rfc, parameters, n_jobs=-1, cv=skf, verbose=2, scoring='roc_auc')"
   ]
  },
  {
   "cell_type": "code",
   "execution_count": null,
   "metadata": {},
   "outputs": [],
   "source": [
    "rfcv.fit(train, target) # тут была длинная стена инфы"
   ]
  },
  {
   "cell_type": "code",
   "execution_count": 37,
   "metadata": {},
   "outputs": [
    {
     "name": "stdout",
     "output_type": "stream",
     "text": [
      "0.7281727008818208\n",
      "RandomForestClassifier(bootstrap=True, class_weight=None, criterion='gini',\n",
      "            max_depth=None, max_features=0.4, max_leaf_nodes=None,\n",
      "            min_impurity_decrease=0.0, min_impurity_split=None,\n",
      "            min_samples_leaf=5, min_samples_split=2,\n",
      "            min_weight_fraction_leaf=0.0, n_estimators=200, n_jobs=-1,\n",
      "            oob_score=False, random_state=42, verbose=0, warm_start=False)\n"
     ]
    }
   ],
   "source": [
    "print(rfcv.best_score_)\n",
    "print(rfcv.best_estimator_)"
   ]
  },
  {
   "cell_type": "markdown",
   "metadata": {},
   "source": [
    "### submit\n",
    "---"
   ]
  },
  {
   "cell_type": "code",
   "execution_count": 38,
   "metadata": {},
   "outputs": [],
   "source": [
    "test_pred = rfcv.best_estimator_.predict_proba(test)[:,1]"
   ]
  },
  {
   "cell_type": "code",
   "execution_count": 39,
   "metadata": {},
   "outputs": [],
   "source": [
    "submit = test.copy()\n",
    "submit = submit.drop(test.columns, axis=1)\n",
    "submit['_ID_'] = submit.index\n",
    "submit['_VAL_'] = test_pred"
   ]
  },
  {
   "cell_type": "code",
   "execution_count": 40,
   "metadata": {},
   "outputs": [
    {
     "data": {
      "text/html": [
       "<div>\n",
       "<style scoped>\n",
       "    .dataframe tbody tr th:only-of-type {\n",
       "        vertical-align: middle;\n",
       "    }\n",
       "\n",
       "    .dataframe tbody tr th {\n",
       "        vertical-align: top;\n",
       "    }\n",
       "\n",
       "    .dataframe thead th {\n",
       "        text-align: right;\n",
       "    }\n",
       "</style>\n",
       "<table border=\"1\" class=\"dataframe\">\n",
       "  <thead>\n",
       "    <tr style=\"text-align: right;\">\n",
       "      <th></th>\n",
       "      <th>_ID_</th>\n",
       "      <th>_VAL_</th>\n",
       "    </tr>\n",
       "  </thead>\n",
       "  <tbody>\n",
       "    <tr>\n",
       "      <th>0</th>\n",
       "      <td>0</td>\n",
       "      <td>0.261857</td>\n",
       "    </tr>\n",
       "    <tr>\n",
       "      <th>1</th>\n",
       "      <td>1</td>\n",
       "      <td>0.357755</td>\n",
       "    </tr>\n",
       "    <tr>\n",
       "      <th>2</th>\n",
       "      <td>2</td>\n",
       "      <td>0.412034</td>\n",
       "    </tr>\n",
       "    <tr>\n",
       "      <th>3</th>\n",
       "      <td>3</td>\n",
       "      <td>0.271957</td>\n",
       "    </tr>\n",
       "    <tr>\n",
       "      <th>4</th>\n",
       "      <td>4</td>\n",
       "      <td>0.785708</td>\n",
       "    </tr>\n",
       "  </tbody>\n",
       "</table>\n",
       "</div>"
      ],
      "text/plain": [
       "   _ID_     _VAL_\n",
       "0     0  0.261857\n",
       "1     1  0.357755\n",
       "2     2  0.412034\n",
       "3     3  0.271957\n",
       "4     4  0.785708"
      ]
     },
     "execution_count": 40,
     "metadata": {},
     "output_type": "execute_result"
    }
   ],
   "source": [
    "submit.head()"
   ]
  },
  {
   "cell_type": "code",
   "execution_count": 41,
   "metadata": {},
   "outputs": [],
   "source": [
    "submit.to_csv('submissions/forest.csv', index=False)"
   ]
  },
  {
   "cell_type": "markdown",
   "metadata": {},
   "source": [
    "---"
   ]
  },
  {
   "cell_type": "markdown",
   "metadata": {},
   "source": [
    "# 5. Ensemble\n",
    "---"
   ]
  },
  {
   "cell_type": "code",
   "execution_count": 31,
   "metadata": {},
   "outputs": [],
   "source": [
    "from sklearn.metrics import roc_auc_score\n",
    "from scipy.stats import rankdata"
   ]
  },
  {
   "cell_type": "code",
   "execution_count": 142,
   "metadata": {},
   "outputs": [],
   "source": [
    "skf = StratifiedKFold(n_splits=3, shuffle=True, random_state=42)"
   ]
  },
  {
   "cell_type": "code",
   "execution_count": 146,
   "metadata": {},
   "outputs": [],
   "source": [
    "lg = LogisticRegression(C=0.8, class_weight=\"balanced\", random_state=42)"
   ]
  },
  {
   "cell_type": "code",
   "execution_count": 147,
   "metadata": {},
   "outputs": [],
   "source": [
    "bg = BaggingClassifier(lg, max_features=0.7, n_estimators=25, n_jobs=-1)"
   ]
  },
  {
   "cell_type": "code",
   "execution_count": 104,
   "metadata": {},
   "outputs": [],
   "source": [
    "rfc = RandomForestClassifier(max_features=0.4, min_samples_leaf=5, n_estimators=200, random_state=42, n_jobs=-1)# , oob_score=True"
   ]
  },
  {
   "cell_type": "code",
   "execution_count": 151,
   "metadata": {},
   "outputs": [],
   "source": [
    "scores = dict()"
   ]
  },
  {
   "cell_type": "code",
   "execution_count": 88,
   "metadata": {},
   "outputs": [],
   "source": [
    "def score_add(score, key):\n",
    "    if key in scores:\n",
    "        scores[key].append(score)\n",
    "    else:\n",
    "        scores[key] = [score]"
   ]
  },
  {
   "cell_type": "code",
   "execution_count": 179,
   "metadata": {},
   "outputs": [],
   "source": [
    "submit = test.copy()\n",
    "submit = submit.drop(test.columns, axis=1)\n",
    "submit['_ID_'] = submit.index\n",
    "# submit['_VAL_'] = test_pred"
   ]
  },
  {
   "cell_type": "code",
   "execution_count": 194,
   "metadata": {},
   "outputs": [],
   "source": [
    "scores = dict()\n",
    "i = 0\n",
    "\n",
    "for tr, val in skf.split(train, target):\n",
    "    # Bagging/Bootstraping\n",
    "    # Threading\n",
    "#     preds = list()\n",
    "    \n",
    "    \n",
    "#     rfc.fit(train.iloc[tr], target[tr])\n",
    "#     pred_rfc = rfc.predict_proba(train.iloc[val])[:,1]\n",
    "#     predict_proba\n",
    "#     bg.fit(train.iloc[tr], target[tr])\n",
    "#     pred_bg = bg.predict_proba(train.iloc[val])[:,1]\n",
    "    \n",
    "#     score_add(roc_auc_score(target[val].values, pred_rfc), 'rfc')\n",
    "#     score_add(roc_auc_score(target[val].values, pred_bg), 'bg_logreg')\n",
    "    \n",
    "#     submit['rfc_{}'.format(i)] = rfc.predict_proba(test)[:,1]\n",
    "#     submit['bg_logreg_{}'.format(i)] = bg.predict_proba(test)[:,1]\n",
    "# #     submit['bg_nb_{}'.format(i)] = bgnb.predict_proba(test)\n",
    "    \n",
    "\n",
    "    \n",
    "#     pred_mean = (pred_rfc + pred_bg)/2\n",
    "#     score_add(roc_auc_score(target[val].values, pred_mean), 'mean')\n",
    "    \n",
    "#     pred_geometric = (pred_rfc*pred_bg)**0.5\n",
    "#     score_add(roc_auc_score(target[val].values, pred_geometric), 'geometric')\n",
    "    \n",
    "#     pred_rank_avg = rankdata(pred_rfc) + rankdata(pred_bg)\n",
    "#     score_add(roc_auc_score(target[val].values, pred_rank_avg), 'rank_avg')\n",
    "    \n",
    "#     i+=1\n",
    "    \n",
    "#     score = roc_auc_score(target[val].values, pr)\n",
    "#     print(score)\n",
    "#     scores.append(score)\n",
    "#     print(preds)\n",
    "    \n",
    "    \n",
    "# print(np.mean(scores)) "
   ]
  },
  {
   "cell_type": "code",
   "execution_count": 195,
   "metadata": {},
   "outputs": [
    {
     "name": "stdout",
     "output_type": "stream",
     "text": [
      "{'rfc': [0.7243341393463885, 0.732509578462936, 0.727674335818231], 'bg_logreg': [0.7250713157457331, 0.7256658341864579, 0.7262143279385713], 'mean': [0.7374581421963715, 0.7407586624347452, 0.739864570746892], 'geometric': [0.736419107908703, 0.7421444826041985, 0.7403604424658714], 'rank_avg': [0.7359831277188382, 0.7405535750772576, 0.7391962363005506]}\n"
     ]
    }
   ],
   "source": [
    "print(scores)"
   ]
  },
  {
   "cell_type": "code",
   "execution_count": 196,
   "metadata": {},
   "outputs": [
    {
     "name": "stdout",
     "output_type": "stream",
     "text": [
      "{'rfc': 0.7281726845425185, 'bg_logreg': 0.7256504926235875, 'mean': 0.7393604584593362, 'geometric': 0.7396413443262576, 'rank_avg': 0.7385776463655489}\n"
     ]
    }
   ],
   "source": [
    "scores_means = dict()\n",
    "for x in scores:\n",
    "    scores_means[x] = np.mean(scores[x])\n",
    "print(scores_means)"
   ]
  },
  {
   "cell_type": "markdown",
   "metadata": {},
   "source": [
    "---"
   ]
  },
  {
   "cell_type": "markdown",
   "metadata": {},
   "source": [
    "### submit"
   ]
  },
  {
   "cell_type": "code",
   "execution_count": 198,
   "metadata": {},
   "outputs": [
    {
     "data": {
      "text/html": [
       "<div>\n",
       "<style scoped>\n",
       "    .dataframe tbody tr th:only-of-type {\n",
       "        vertical-align: middle;\n",
       "    }\n",
       "\n",
       "    .dataframe tbody tr th {\n",
       "        vertical-align: top;\n",
       "    }\n",
       "\n",
       "    .dataframe thead th {\n",
       "        text-align: right;\n",
       "    }\n",
       "</style>\n",
       "<table border=\"1\" class=\"dataframe\">\n",
       "  <thead>\n",
       "    <tr style=\"text-align: right;\">\n",
       "      <th></th>\n",
       "      <th>_ID_</th>\n",
       "      <th>rfc_0</th>\n",
       "      <th>bg_logreg_0</th>\n",
       "      <th>rfc_1</th>\n",
       "      <th>bg_logreg_1</th>\n",
       "      <th>rfc_2</th>\n",
       "      <th>bg_logreg_2</th>\n",
       "    </tr>\n",
       "  </thead>\n",
       "  <tbody>\n",
       "    <tr>\n",
       "      <th>0</th>\n",
       "      <td>0</td>\n",
       "      <td>0.240973</td>\n",
       "      <td>0.330771</td>\n",
       "      <td>0.199413</td>\n",
       "      <td>0.318641</td>\n",
       "      <td>0.163725</td>\n",
       "      <td>0.267447</td>\n",
       "    </tr>\n",
       "    <tr>\n",
       "      <th>1</th>\n",
       "      <td>1</td>\n",
       "      <td>0.359579</td>\n",
       "      <td>0.814577</td>\n",
       "      <td>0.419413</td>\n",
       "      <td>0.781961</td>\n",
       "      <td>0.438113</td>\n",
       "      <td>0.796437</td>\n",
       "    </tr>\n",
       "    <tr>\n",
       "      <th>2</th>\n",
       "      <td>2</td>\n",
       "      <td>0.390428</td>\n",
       "      <td>0.551485</td>\n",
       "      <td>0.271239</td>\n",
       "      <td>0.533719</td>\n",
       "      <td>0.330782</td>\n",
       "      <td>0.436198</td>\n",
       "    </tr>\n",
       "    <tr>\n",
       "      <th>3</th>\n",
       "      <td>3</td>\n",
       "      <td>0.260330</td>\n",
       "      <td>0.720028</td>\n",
       "      <td>0.275477</td>\n",
       "      <td>0.702409</td>\n",
       "      <td>0.310223</td>\n",
       "      <td>0.675152</td>\n",
       "    </tr>\n",
       "    <tr>\n",
       "      <th>4</th>\n",
       "      <td>4</td>\n",
       "      <td>0.794621</td>\n",
       "      <td>0.788000</td>\n",
       "      <td>0.722141</td>\n",
       "      <td>0.790225</td>\n",
       "      <td>0.653811</td>\n",
       "      <td>0.777721</td>\n",
       "    </tr>\n",
       "  </tbody>\n",
       "</table>\n",
       "</div>"
      ],
      "text/plain": [
       "   _ID_     rfc_0  bg_logreg_0     rfc_1  bg_logreg_1     rfc_2  bg_logreg_2\n",
       "0     0  0.240973     0.330771  0.199413     0.318641  0.163725     0.267447\n",
       "1     1  0.359579     0.814577  0.419413     0.781961  0.438113     0.796437\n",
       "2     2  0.390428     0.551485  0.271239     0.533719  0.330782     0.436198\n",
       "3     3  0.260330     0.720028  0.275477     0.702409  0.310223     0.675152\n",
       "4     4  0.794621     0.788000  0.722141     0.790225  0.653811     0.777721"
      ]
     },
     "execution_count": 198,
     "metadata": {},
     "output_type": "execute_result"
    }
   ],
   "source": [
    "submit.head()"
   ]
  },
  {
   "cell_type": "code",
   "execution_count": 199,
   "metadata": {},
   "outputs": [],
   "source": [
    "submit['rfc_mean'] = (submit['rfc_0']+submit['rfc_1']+submit['rfc_2'])/3\n",
    "submit['bg_logreg_mean'] = (submit['rfc_0']+submit['bg_logreg_1']+submit['bg_logreg_2'])/3"
   ]
  },
  {
   "cell_type": "code",
   "execution_count": 201,
   "metadata": {},
   "outputs": [],
   "source": [
    "# best rfc index = 1\n",
    "# best bg_logreg index = 2"
   ]
  },
  {
   "cell_type": "code",
   "execution_count": 209,
   "metadata": {},
   "outputs": [
    {
     "data": {
      "text/html": [
       "<div>\n",
       "<style scoped>\n",
       "    .dataframe tbody tr th:only-of-type {\n",
       "        vertical-align: middle;\n",
       "    }\n",
       "\n",
       "    .dataframe tbody tr th {\n",
       "        vertical-align: top;\n",
       "    }\n",
       "\n",
       "    .dataframe thead th {\n",
       "        text-align: right;\n",
       "    }\n",
       "</style>\n",
       "<table border=\"1\" class=\"dataframe\">\n",
       "  <thead>\n",
       "    <tr style=\"text-align: right;\">\n",
       "      <th></th>\n",
       "      <th>rfc_1</th>\n",
       "      <th>rfc_mean</th>\n",
       "      <th>bg_logreg_2</th>\n",
       "      <th>bg_logreg_mean</th>\n",
       "    </tr>\n",
       "  </thead>\n",
       "  <tbody>\n",
       "    <tr>\n",
       "      <th>0</th>\n",
       "      <td>0.199413</td>\n",
       "      <td>0.201370</td>\n",
       "      <td>0.267447</td>\n",
       "      <td>0.275687</td>\n",
       "    </tr>\n",
       "    <tr>\n",
       "      <th>1</th>\n",
       "      <td>0.419413</td>\n",
       "      <td>0.405702</td>\n",
       "      <td>0.796437</td>\n",
       "      <td>0.645992</td>\n",
       "    </tr>\n",
       "    <tr>\n",
       "      <th>2</th>\n",
       "      <td>0.271239</td>\n",
       "      <td>0.330816</td>\n",
       "      <td>0.436198</td>\n",
       "      <td>0.453448</td>\n",
       "    </tr>\n",
       "    <tr>\n",
       "      <th>3</th>\n",
       "      <td>0.275477</td>\n",
       "      <td>0.282010</td>\n",
       "      <td>0.675152</td>\n",
       "      <td>0.545964</td>\n",
       "    </tr>\n",
       "    <tr>\n",
       "      <th>4</th>\n",
       "      <td>0.722141</td>\n",
       "      <td>0.723524</td>\n",
       "      <td>0.777721</td>\n",
       "      <td>0.787523</td>\n",
       "    </tr>\n",
       "  </tbody>\n",
       "</table>\n",
       "</div>"
      ],
      "text/plain": [
       "      rfc_1  rfc_mean  bg_logreg_2  bg_logreg_mean\n",
       "0  0.199413  0.201370     0.267447        0.275687\n",
       "1  0.419413  0.405702     0.796437        0.645992\n",
       "2  0.271239  0.330816     0.436198        0.453448\n",
       "3  0.275477  0.282010     0.675152        0.545964\n",
       "4  0.722141  0.723524     0.777721        0.787523"
      ]
     },
     "execution_count": 209,
     "metadata": {},
     "output_type": "execute_result"
    }
   ],
   "source": [
    "submit[['rfc_1', 'rfc_mean', 'bg_logreg_2', 'bg_logreg_mean']].head()"
   ]
  },
  {
   "cell_type": "code",
   "execution_count": 210,
   "metadata": {},
   "outputs": [],
   "source": [
    "submit['_VAL_'] = (submit['rfc_1']*submit['bg_logreg_2'])**0.5"
   ]
  },
  {
   "cell_type": "code",
   "execution_count": 212,
   "metadata": {},
   "outputs": [],
   "source": [
    "submit[['_ID_', '_VAL_']].to_csv('submissions/ensemble_kfold_best.csv', index=False)"
   ]
  },
  {
   "cell_type": "code",
   "execution_count": 213,
   "metadata": {},
   "outputs": [],
   "source": [
    "submit['_VAL_'] = (submit['rfc_mean']*submit['bg_logreg_mean'])**0.5"
   ]
  },
  {
   "cell_type": "code",
   "execution_count": 214,
   "metadata": {},
   "outputs": [],
   "source": [
    "submit[['_ID_', '_VAL_']].to_csv('submissions/ensemble_kfold_mean.csv', index=False)"
   ]
  },
  {
   "cell_type": "code",
   "execution_count": 217,
   "metadata": {},
   "outputs": [],
   "source": [
    "submit['_VAL_'] = rankdata(submit['rfc_mean']) + rankdata(submit['bg_logreg_mean'])"
   ]
  },
  {
   "cell_type": "code",
   "execution_count": 219,
   "metadata": {},
   "outputs": [],
   "source": [
    "submit[['_ID_', '_VAL_']].to_csv('submissions/ensemble_rank.csv', index=False)"
   ]
  },
  {
   "cell_type": "markdown",
   "metadata": {},
   "source": [
    "---"
   ]
  },
  {
   "cell_type": "markdown",
   "metadata": {},
   "source": [
    "# 6. Stacking\n",
    "---"
   ]
  },
  {
   "cell_type": "code",
   "execution_count": 12,
   "metadata": {},
   "outputs": [],
   "source": [
    "import lightgbm as lgb"
   ]
  },
  {
   "cell_type": "code",
   "execution_count": 15,
   "metadata": {},
   "outputs": [],
   "source": [
    "params = {\n",
    "    \"objective\": \"binary\",\n",
    "    'metric': {'auc'},\n",
    "    \"boosting_type\": \"gbdt\",\n",
    "    \"verbosity\": -1,\n",
    "    \"num_threads\": 4,\n",
    "    \"bagging_fraction\": 0.8,\n",
    "    \"feature_fraction\": 0.8,\n",
    "#     \"learning_rate\": 0.1,\n",
    "    \"num_leaves\": 31,\n",
    "    \"nthread\": -1,\n",
    "    \"verbose\": -1\n",
    "#     \"min_split_gain\": .1,\n",
    "#     \"reg_alpha\": .1\n",
    "}\n",
    "\n",
    "lgb_train = lgb.Dataset(train , label=target)"
   ]
  },
  {
   "cell_type": "code",
   "execution_count": 16,
   "metadata": {},
   "outputs": [],
   "source": [
    "estimator = lgb.LGBMClassifier(random_state=42, **params)"
   ]
  },
  {
   "cell_type": "code",
   "execution_count": 191,
   "metadata": {},
   "outputs": [],
   "source": [
    "# param_grid = {\n",
    "#     'learning_rate': [0.1],\n",
    "#     'n_estimators': [50],\n",
    "#     'class_weight': [None],\n",
    "#     'num_leaves': [31],\n",
    "#     'feature_fraction': [0.8],\n",
    "#     'bagging_fraction': [1],\n",
    "#     'max_depth': [-1]\n",
    "# }"
   ]
  },
  {
   "cell_type": "code",
   "execution_count": 24,
   "metadata": {},
   "outputs": [],
   "source": [
    "param_grid = {\n",
    "    'learning_rate': [0.1],\n",
    "    'n_estimators': [50, 100, 200],\n",
    "    'class_weight': [None, 'balanced'],\n",
    "    'num_leaves': [10, 31, 50],\n",
    "    'feature_fraction': [0.4, 0.8, 1.0],\n",
    "    'bagging_fraction': [0.8, 1],\n",
    "    'max_depth': [-1]\n",
    "}"
   ]
  },
  {
   "cell_type": "code",
   "execution_count": 192,
   "metadata": {},
   "outputs": [],
   "source": [
    "gbm = GridSearchCV(estimator, param_grid, cv=3, scoring='roc_auc', verbose=1) #n_jobs=-1)"
   ]
  },
  {
   "cell_type": "code",
   "execution_count": 193,
   "metadata": {},
   "outputs": [
    {
     "name": "stdout",
     "output_type": "stream",
     "text": [
      "Fitting 3 folds for each of 1 candidates, totalling 3 fits\n"
     ]
    },
    {
     "name": "stderr",
     "output_type": "stream",
     "text": [
      "[Parallel(n_jobs=1)]: Done   3 out of   3 | elapsed:    5.5s finished\n"
     ]
    },
    {
     "data": {
      "text/plain": [
       "GridSearchCV(cv=3, error_score='raise',\n",
       "       estimator=LGBMClassifier(bagging_fraction=0.8, boosting_type='gbdt', class_weight=None,\n",
       "        colsample_bytree=1.0, feature_fraction=0.8, learning_rate=0.1,\n",
       "        max_depth=-1, metric={'auc'}, min_child_samples=20,\n",
       "        min_child_weight=0.001, min_split_gain=0.0, n_estimators=100,\n",
       "        n_j...t=True, subsample=1.0, subsample_for_bin=200000,\n",
       "        subsample_freq=1, verbose=-1, verbosity=-1),\n",
       "       fit_params=None, iid=True, n_jobs=1,\n",
       "       param_grid={'learning_rate': [0.1], 'n_estimators': [50], 'class_weight': [None], 'num_leaves': [31], 'feature_fraction': [0.8], 'bagging_fraction': [1], 'max_depth': [-1]},\n",
       "       pre_dispatch='2*n_jobs', refit=True, return_train_score='warn',\n",
       "       scoring='roc_auc', verbose=1)"
      ]
     },
     "execution_count": 193,
     "metadata": {},
     "output_type": "execute_result"
    }
   ],
   "source": [
    "gbm.fit(train, target)"
   ]
  },
  {
   "cell_type": "code",
   "execution_count": 194,
   "metadata": {},
   "outputs": [
    {
     "name": "stdout",
     "output_type": "stream",
     "text": [
      "LGBMClassifier(bagging_fraction=1, boosting_type='gbdt', class_weight=None,\n",
      "        colsample_bytree=1.0, feature_fraction=0.8, learning_rate=0.1,\n",
      "        max_depth=-1, metric={'auc'}, min_child_samples=20,\n",
      "        min_child_weight=0.001, min_split_gain=0.0, n_estimators=50,\n",
      "        n_jobs=-1, nthread=-1, num_leaves=31, num_threads=4,\n",
      "        objective='binary', random_state=42, reg_alpha=0.0, reg_lambda=0.0,\n",
      "        silent=True, subsample=1.0, subsample_for_bin=200000,\n",
      "        subsample_freq=1, verbose=-1, verbosity=-1)\n",
      "0.737104073049237\n"
     ]
    }
   ],
   "source": [
    "print(gbm.best_estimator_)\n",
    "print(gbm.best_score_)"
   ]
  },
  {
   "cell_type": "code",
   "execution_count": 25,
   "metadata": {},
   "outputs": [],
   "source": [
    "bgbm = gbm.best_estimator_"
   ]
  },
  {
   "cell_type": "markdown",
   "metadata": {},
   "source": [
    "##### lgbm submission\n",
    "---"
   ]
  },
  {
   "cell_type": "code",
   "execution_count": 26,
   "metadata": {},
   "outputs": [],
   "source": [
    "submit = test.copy()\n",
    "submit = submit.drop(test.columns, axis=1)\n",
    "submit['_ID_'] = submit.index\n",
    "submit['_VAL_'] = bgbm.predict_proba(test)[:,1]"
   ]
  },
  {
   "cell_type": "code",
   "execution_count": 270,
   "metadata": {},
   "outputs": [],
   "source": [
    "submit.to_csv('submissions/lgbm.csv', index=False)"
   ]
  },
  {
   "cell_type": "markdown",
   "metadata": {},
   "source": [
    "---"
   ]
  },
  {
   "cell_type": "code",
   "execution_count": 138,
   "metadata": {},
   "outputs": [],
   "source": [
    "skf = StratifiedKFold(n_splits=3, shuffle=True, random_state=42)"
   ]
  },
  {
   "cell_type": "code",
   "execution_count": 139,
   "metadata": {},
   "outputs": [],
   "source": [
    "submit = test.copy()\n",
    "submit = submit.drop(test.columns, axis=1)\n",
    "# submit['_ID_'] = submit.index"
   ]
  },
  {
   "cell_type": "code",
   "execution_count": 140,
   "metadata": {},
   "outputs": [],
   "source": [
    "new_train = train.copy()\n",
    "new_train = new_train.drop(train.columns, axis=1)"
   ]
  },
  {
   "cell_type": "code",
   "execution_count": 141,
   "metadata": {},
   "outputs": [],
   "source": [
    "new_train['lgbm_pred'] = 0"
   ]
  },
  {
   "cell_type": "code",
   "execution_count": null,
   "metadata": {},
   "outputs": [],
   "source": []
  },
  {
   "cell_type": "code",
   "execution_count": 142,
   "metadata": {},
   "outputs": [],
   "source": [
    "lg = LogisticRegression(C=0.8, class_weight=\"balanced\", random_state=42)"
   ]
  },
  {
   "cell_type": "code",
   "execution_count": 143,
   "metadata": {},
   "outputs": [],
   "source": [
    "bg = BaggingClassifier(lg, max_features=0.7, n_estimators=25, n_jobs=-1)"
   ]
  },
  {
   "cell_type": "code",
   "execution_count": 144,
   "metadata": {},
   "outputs": [],
   "source": [
    "rfc = RandomForestClassifier(max_features=0.4, min_samples_leaf=5, n_estimators=200, random_state=42, n_jobs=-1)# , oob_score=True"
   ]
  },
  {
   "cell_type": "code",
   "execution_count": 145,
   "metadata": {},
   "outputs": [],
   "source": [
    "# scores = dict()\n",
    "i = 0\n",
    "\n",
    "for tr, val in skf.split(train, target):\n",
    "    bgbm.fit(train.iloc[tr], target[tr])\n",
    "    pred_lgb = bgbm.predict_proba(train.iloc[val])[:,1]\n",
    "    \n",
    "    \n",
    "    rfc.fit(train.iloc[tr], target[tr])\n",
    "    pred_rfc = rfc.predict_proba(train.iloc[val])[:,1]\n",
    "    \n",
    "    bg.fit(train.iloc[tr], target[tr])\n",
    "    pred_bg = bg.predict_proba(train.iloc[val])[:,1]\n",
    "    \n",
    "    new_train.loc[val, 'lgbm_pred'] = pred_lgb\n",
    "    new_train.loc[val, 'pred_rfc'] = pred_rfc\n",
    "    new_train.loc[val, 'pred_bg'.format(i)] = pred_bg\n",
    "    \n",
    "    \n",
    "    pred_lgb_test = bgbm.predict_proba(test)[:,1]\n",
    "    pred_rfc_test = rfc.predict_proba(test)[:,1]\n",
    "    pred_bg_test = bg.predict_proba(test)[:,1]\n",
    "    submit['lgbm_pred_{}'.format(i)] = pred_lgb_test\n",
    "    submit['pred_rfc_{}'.format(i)] = pred_rfc_test\n",
    "    submit['pred_bg_{}'.format(i)] = pred_bg_test\n",
    "    \n",
    "    i+=1\n",
    "    \n",
    "    \n",
    "#     pred_mean = (pred_rfc + pred_bg + pred_lgb)/3\n",
    "#     score_add(roc_auc_score(target[val].values, pred_mean), 'mean')\n",
    "    \n",
    "#     pred_geometric = (pred_rfc*pred_bg*pred_lgb)**(1/3)\n",
    "#     score_add(roc_auc_score(target[val].values, pred_geometric), 'geometric')\n",
    "    \n",
    "#     pred_rank_avg = rankdata(pred_rfc) + rankdata(pred_bg) + rankdata(pred_lgb)\n",
    "#     score_add(roc_auc_score(target[val].values, pred_rank_avg), 'rank_avg')\n",
    "    \n",
    "#     scores.append(roc_auc_score(target[val].values, pred))\n",
    "    \n",
    "# np.mean(scores)"
   ]
  },
  {
   "cell_type": "code",
   "execution_count": 146,
   "metadata": {},
   "outputs": [],
   "source": [
    "# scores_means = dict()\n",
    "# for x in scores:\n",
    "#     scores_means[x] = np.mean(scores[x])\n",
    "# print(scores_means)"
   ]
  },
  {
   "cell_type": "code",
   "execution_count": 147,
   "metadata": {},
   "outputs": [
    {
     "data": {
      "text/html": [
       "<div>\n",
       "<style scoped>\n",
       "    .dataframe tbody tr th:only-of-type {\n",
       "        vertical-align: middle;\n",
       "    }\n",
       "\n",
       "    .dataframe tbody tr th {\n",
       "        vertical-align: top;\n",
       "    }\n",
       "\n",
       "    .dataframe thead th {\n",
       "        text-align: right;\n",
       "    }\n",
       "</style>\n",
       "<table border=\"1\" class=\"dataframe\">\n",
       "  <thead>\n",
       "    <tr style=\"text-align: right;\">\n",
       "      <th></th>\n",
       "      <th>lgbm_pred</th>\n",
       "      <th>pred_rfc</th>\n",
       "      <th>pred_bg</th>\n",
       "    </tr>\n",
       "  </thead>\n",
       "  <tbody>\n",
       "    <tr>\n",
       "      <th>0</th>\n",
       "      <td>0.514034</td>\n",
       "      <td>0.502541</td>\n",
       "      <td>0.837640</td>\n",
       "    </tr>\n",
       "    <tr>\n",
       "      <th>1</th>\n",
       "      <td>0.338585</td>\n",
       "      <td>0.246285</td>\n",
       "      <td>0.627416</td>\n",
       "    </tr>\n",
       "    <tr>\n",
       "      <th>2</th>\n",
       "      <td>0.189184</td>\n",
       "      <td>0.328215</td>\n",
       "      <td>0.571554</td>\n",
       "    </tr>\n",
       "    <tr>\n",
       "      <th>3</th>\n",
       "      <td>0.198621</td>\n",
       "      <td>0.222369</td>\n",
       "      <td>0.605956</td>\n",
       "    </tr>\n",
       "    <tr>\n",
       "      <th>4</th>\n",
       "      <td>0.659018</td>\n",
       "      <td>0.579143</td>\n",
       "      <td>0.811090</td>\n",
       "    </tr>\n",
       "  </tbody>\n",
       "</table>\n",
       "</div>"
      ],
      "text/plain": [
       "   lgbm_pred  pred_rfc   pred_bg\n",
       "0   0.514034  0.502541  0.837640\n",
       "1   0.338585  0.246285  0.627416\n",
       "2   0.189184  0.328215  0.571554\n",
       "3   0.198621  0.222369  0.605956\n",
       "4   0.659018  0.579143  0.811090"
      ]
     },
     "execution_count": 147,
     "metadata": {},
     "output_type": "execute_result"
    }
   ],
   "source": [
    "new_train.head()"
   ]
  },
  {
   "cell_type": "code",
   "execution_count": 148,
   "metadata": {},
   "outputs": [
    {
     "data": {
      "text/html": [
       "<div>\n",
       "<style scoped>\n",
       "    .dataframe tbody tr th:only-of-type {\n",
       "        vertical-align: middle;\n",
       "    }\n",
       "\n",
       "    .dataframe tbody tr th {\n",
       "        vertical-align: top;\n",
       "    }\n",
       "\n",
       "    .dataframe thead th {\n",
       "        text-align: right;\n",
       "    }\n",
       "</style>\n",
       "<table border=\"1\" class=\"dataframe\">\n",
       "  <thead>\n",
       "    <tr style=\"text-align: right;\">\n",
       "      <th></th>\n",
       "      <th>lgbm_pred_0</th>\n",
       "      <th>pred_rfc_0</th>\n",
       "      <th>pred_bg_0</th>\n",
       "      <th>lgbm_pred_1</th>\n",
       "      <th>pred_rfc_1</th>\n",
       "      <th>pred_bg_1</th>\n",
       "      <th>lgbm_pred_2</th>\n",
       "      <th>pred_rfc_2</th>\n",
       "      <th>pred_bg_2</th>\n",
       "    </tr>\n",
       "  </thead>\n",
       "  <tbody>\n",
       "    <tr>\n",
       "      <th>0</th>\n",
       "      <td>0.157021</td>\n",
       "      <td>0.240973</td>\n",
       "      <td>0.315734</td>\n",
       "      <td>0.161723</td>\n",
       "      <td>0.199413</td>\n",
       "      <td>0.308822</td>\n",
       "      <td>0.156282</td>\n",
       "      <td>0.163725</td>\n",
       "      <td>0.263307</td>\n",
       "    </tr>\n",
       "    <tr>\n",
       "      <th>1</th>\n",
       "      <td>0.481102</td>\n",
       "      <td>0.359579</td>\n",
       "      <td>0.801056</td>\n",
       "      <td>0.439795</td>\n",
       "      <td>0.419413</td>\n",
       "      <td>0.768670</td>\n",
       "      <td>0.555522</td>\n",
       "      <td>0.438113</td>\n",
       "      <td>0.793710</td>\n",
       "    </tr>\n",
       "    <tr>\n",
       "      <th>2</th>\n",
       "      <td>0.313675</td>\n",
       "      <td>0.390428</td>\n",
       "      <td>0.536221</td>\n",
       "      <td>0.218833</td>\n",
       "      <td>0.271239</td>\n",
       "      <td>0.491475</td>\n",
       "      <td>0.372424</td>\n",
       "      <td>0.330782</td>\n",
       "      <td>0.423577</td>\n",
       "    </tr>\n",
       "    <tr>\n",
       "      <th>3</th>\n",
       "      <td>0.347980</td>\n",
       "      <td>0.260330</td>\n",
       "      <td>0.701355</td>\n",
       "      <td>0.357557</td>\n",
       "      <td>0.275477</td>\n",
       "      <td>0.693711</td>\n",
       "      <td>0.329436</td>\n",
       "      <td>0.310223</td>\n",
       "      <td>0.674420</td>\n",
       "    </tr>\n",
       "    <tr>\n",
       "      <th>4</th>\n",
       "      <td>0.670501</td>\n",
       "      <td>0.794621</td>\n",
       "      <td>0.793082</td>\n",
       "      <td>0.538158</td>\n",
       "      <td>0.722141</td>\n",
       "      <td>0.789266</td>\n",
       "      <td>0.546771</td>\n",
       "      <td>0.653811</td>\n",
       "      <td>0.777521</td>\n",
       "    </tr>\n",
       "  </tbody>\n",
       "</table>\n",
       "</div>"
      ],
      "text/plain": [
       "   lgbm_pred_0  pred_rfc_0  pred_bg_0  lgbm_pred_1  pred_rfc_1  pred_bg_1  \\\n",
       "0     0.157021    0.240973   0.315734     0.161723    0.199413   0.308822   \n",
       "1     0.481102    0.359579   0.801056     0.439795    0.419413   0.768670   \n",
       "2     0.313675    0.390428   0.536221     0.218833    0.271239   0.491475   \n",
       "3     0.347980    0.260330   0.701355     0.357557    0.275477   0.693711   \n",
       "4     0.670501    0.794621   0.793082     0.538158    0.722141   0.789266   \n",
       "\n",
       "   lgbm_pred_2  pred_rfc_2  pred_bg_2  \n",
       "0     0.156282    0.163725   0.263307  \n",
       "1     0.555522    0.438113   0.793710  \n",
       "2     0.372424    0.330782   0.423577  \n",
       "3     0.329436    0.310223   0.674420  \n",
       "4     0.546771    0.653811   0.777521  "
      ]
     },
     "execution_count": 148,
     "metadata": {},
     "output_type": "execute_result"
    }
   ],
   "source": [
    "submit.head()"
   ]
  },
  {
   "cell_type": "code",
   "execution_count": null,
   "metadata": {},
   "outputs": [],
   "source": [
    "# new_train['lgbm_pred'] = (new_train['lgbm_pred_0'] + new_train['lgbm_pred_1'] + new_train['lgbm_pred_2'])/3\n",
    "# new_train['pred_rfc'] = (new_train['pred_rfc_0'] + new_train['pred_rfc_1'] + new_train['pred_rfc_2'])/3\n",
    "# new_train['pred_bg'] = (new_train['pred_bg_0'] + new_train['pred_bg_1'] + new_train['pred_bg_2'])/3"
   ]
  },
  {
   "cell_type": "code",
   "execution_count": 149,
   "metadata": {},
   "outputs": [],
   "source": [
    "submit['lgbm_pred'] = (submit['lgbm_pred_0'] + submit['lgbm_pred_1'] + submit['lgbm_pred_2'])/3\n",
    "submit['pred_rfc'] = (submit['pred_rfc_0'] + submit['pred_rfc_1'] + submit['pred_rfc_2'])/3\n",
    "submit['pred_bg'] = (submit['pred_bg_0'] + submit['pred_bg_1'] + submit['pred_bg_2'])/3"
   ]
  },
  {
   "cell_type": "code",
   "execution_count": 152,
   "metadata": {},
   "outputs": [],
   "source": [
    "submit = submit[['lgbm_pred', 'pred_rfc', 'pred_bg']]"
   ]
  },
  {
   "cell_type": "code",
   "execution_count": 157,
   "metadata": {},
   "outputs": [],
   "source": [
    "new_new_train = new_train.copy()"
   ]
  },
  {
   "cell_type": "code",
   "execution_count": 159,
   "metadata": {},
   "outputs": [],
   "source": [
    "new_submit = submit.drop(['lgbm_pred', 'pred_rfc', 'pred_bg'], axis=1)"
   ]
  },
  {
   "cell_type": "code",
   "execution_count": null,
   "metadata": {},
   "outputs": [],
   "source": []
  },
  {
   "cell_type": "code",
   "execution_count": 161,
   "metadata": {},
   "outputs": [],
   "source": [
    "i = 0\n",
    "\n",
    "for tr, val in skf.split(new_train, target):\n",
    "    bgbm.fit(new_train.iloc[tr], target[tr])\n",
    "    pred_lgb = bgbm.predict_proba(new_train.iloc[val])[:,1]\n",
    "    \n",
    "    \n",
    "    rfc.fit(new_train.iloc[tr], target[tr])\n",
    "    pred_rfc = rfc.predict_proba(new_train.iloc[val])[:,1]\n",
    "    \n",
    "    bg.fit(new_train.iloc[tr], target[tr])\n",
    "    pred_bg = bg.predict_proba(new_train.iloc[val])[:,1]\n",
    "    \n",
    "    new_new_train.loc[val, 'lgbm_pred'] = pred_lgb\n",
    "    new_new_train.loc[val, 'pred_rfc'] = pred_rfc\n",
    "    new_new_train.loc[val, 'pred_bg'.format(i)] = pred_bg\n",
    "    \n",
    "    \n",
    "    pred_lgb_test = bgbm.predict_proba(submit)[:,1]\n",
    "    pred_rfc_test = rfc.predict_proba(submit)[:,1]\n",
    "    pred_bg_test = bg.predict_proba(submit)[:,1]\n",
    "    new_submit['lgbm_pred_{}'.format(i)] = pred_lgb_test\n",
    "    new_submit['pred_rfc_{}'.format(i)] = pred_rfc_test\n",
    "    new_submit['pred_bg_{}'.format(i)] = pred_bg_test\n",
    "    \n",
    "    i+=1\n",
    "    "
   ]
  },
  {
   "cell_type": "code",
   "execution_count": 163,
   "metadata": {},
   "outputs": [
    {
     "data": {
      "text/html": [
       "<div>\n",
       "<style scoped>\n",
       "    .dataframe tbody tr th:only-of-type {\n",
       "        vertical-align: middle;\n",
       "    }\n",
       "\n",
       "    .dataframe tbody tr th {\n",
       "        vertical-align: top;\n",
       "    }\n",
       "\n",
       "    .dataframe thead th {\n",
       "        text-align: right;\n",
       "    }\n",
       "</style>\n",
       "<table border=\"1\" class=\"dataframe\">\n",
       "  <thead>\n",
       "    <tr style=\"text-align: right;\">\n",
       "      <th></th>\n",
       "      <th>lgbm_pred</th>\n",
       "      <th>pred_rfc</th>\n",
       "      <th>pred_bg</th>\n",
       "    </tr>\n",
       "  </thead>\n",
       "  <tbody>\n",
       "    <tr>\n",
       "      <th>0</th>\n",
       "      <td>0.539355</td>\n",
       "      <td>0.578578</td>\n",
       "      <td>0.880068</td>\n",
       "    </tr>\n",
       "    <tr>\n",
       "      <th>1</th>\n",
       "      <td>0.329357</td>\n",
       "      <td>0.306689</td>\n",
       "      <td>0.655433</td>\n",
       "    </tr>\n",
       "    <tr>\n",
       "      <th>2</th>\n",
       "      <td>0.216779</td>\n",
       "      <td>0.139233</td>\n",
       "      <td>0.590798</td>\n",
       "    </tr>\n",
       "    <tr>\n",
       "      <th>3</th>\n",
       "      <td>0.245660</td>\n",
       "      <td>0.292155</td>\n",
       "      <td>0.524538</td>\n",
       "    </tr>\n",
       "    <tr>\n",
       "      <th>4</th>\n",
       "      <td>0.716731</td>\n",
       "      <td>0.895474</td>\n",
       "      <td>0.922082</td>\n",
       "    </tr>\n",
       "  </tbody>\n",
       "</table>\n",
       "</div>"
      ],
      "text/plain": [
       "   lgbm_pred  pred_rfc   pred_bg\n",
       "0   0.539355  0.578578  0.880068\n",
       "1   0.329357  0.306689  0.655433\n",
       "2   0.216779  0.139233  0.590798\n",
       "3   0.245660  0.292155  0.524538\n",
       "4   0.716731  0.895474  0.922082"
      ]
     },
     "execution_count": 163,
     "metadata": {},
     "output_type": "execute_result"
    }
   ],
   "source": [
    "new_new_train.head()"
   ]
  },
  {
   "cell_type": "code",
   "execution_count": null,
   "metadata": {},
   "outputs": [],
   "source": []
  },
  {
   "cell_type": "code",
   "execution_count": 240,
   "metadata": {},
   "outputs": [
    {
     "data": {
      "text/plain": [
       "0.7412610060883399"
      ]
     },
     "execution_count": 240,
     "metadata": {},
     "output_type": "execute_result"
    }
   ],
   "source": [
    "roc_auc_score(target, new_new_train['pred_bg'])"
   ]
  },
  {
   "cell_type": "code",
   "execution_count": 179,
   "metadata": {},
   "outputs": [
    {
     "data": {
      "text/plain": [
       "0.7408611349806749"
      ]
     },
     "execution_count": 179,
     "metadata": {},
     "output_type": "execute_result"
    }
   ],
   "source": [
    "roc_auc_score(target, rankdata(new_train['pred_bg'])+rankdata(new_train['lgbm_pred'])+rankdata(new_train['pred_rfc']))"
   ]
  },
  {
   "cell_type": "code",
   "execution_count": 39,
   "metadata": {},
   "outputs": [
    {
     "data": {
      "text/plain": [
       "[0.7359243044696671, 0.7333838216346749, 0.7371411492558647]"
      ]
     },
     "execution_count": 39,
     "metadata": {},
     "output_type": "execute_result"
    }
   ],
   "source": [
    "scores"
   ]
  },
  {
   "cell_type": "code",
   "execution_count": 180,
   "metadata": {},
   "outputs": [],
   "source": [
    "new_submit['lgbm_pred'] = (new_submit['lgbm_pred_0'] + new_submit['lgbm_pred_1'] + new_submit['lgbm_pred_2'])/3\n",
    "new_submit['pred_rfc'] = (new_submit['pred_rfc_0'] + new_submit['pred_rfc_1'] + new_submit['pred_rfc_2'])/3\n",
    "new_submit['pred_bg'] = (new_submit['pred_bg_0'] + new_submit['pred_bg_1'] + new_submit['pred_bg_2'])/3"
   ]
  },
  {
   "cell_type": "code",
   "execution_count": 181,
   "metadata": {},
   "outputs": [
    {
     "data": {
      "text/html": [
       "<div>\n",
       "<style scoped>\n",
       "    .dataframe tbody tr th:only-of-type {\n",
       "        vertical-align: middle;\n",
       "    }\n",
       "\n",
       "    .dataframe tbody tr th {\n",
       "        vertical-align: top;\n",
       "    }\n",
       "\n",
       "    .dataframe thead th {\n",
       "        text-align: right;\n",
       "    }\n",
       "</style>\n",
       "<table border=\"1\" class=\"dataframe\">\n",
       "  <thead>\n",
       "    <tr style=\"text-align: right;\">\n",
       "      <th></th>\n",
       "      <th>lgbm_pred_0</th>\n",
       "      <th>pred_rfc_0</th>\n",
       "      <th>pred_bg_0</th>\n",
       "      <th>lgbm_pred_1</th>\n",
       "      <th>pred_rfc_1</th>\n",
       "      <th>pred_bg_1</th>\n",
       "      <th>lgbm_pred_2</th>\n",
       "      <th>pred_rfc_2</th>\n",
       "      <th>pred_bg_2</th>\n",
       "      <th>lgbm_pred</th>\n",
       "      <th>pred_rfc</th>\n",
       "      <th>pred_bg</th>\n",
       "    </tr>\n",
       "  </thead>\n",
       "  <tbody>\n",
       "    <tr>\n",
       "      <th>0</th>\n",
       "      <td>0.167887</td>\n",
       "      <td>0.215675</td>\n",
       "      <td>0.392005</td>\n",
       "      <td>0.150823</td>\n",
       "      <td>0.095587</td>\n",
       "      <td>0.388795</td>\n",
       "      <td>0.163948</td>\n",
       "      <td>0.238955</td>\n",
       "      <td>0.409904</td>\n",
       "      <td>0.160886</td>\n",
       "      <td>0.183406</td>\n",
       "      <td>0.396901</td>\n",
       "    </tr>\n",
       "    <tr>\n",
       "      <th>1</th>\n",
       "      <td>0.413008</td>\n",
       "      <td>0.602728</td>\n",
       "      <td>0.827435</td>\n",
       "      <td>0.460751</td>\n",
       "      <td>0.565422</td>\n",
       "      <td>0.838194</td>\n",
       "      <td>0.451599</td>\n",
       "      <td>0.517862</td>\n",
       "      <td>0.838917</td>\n",
       "      <td>0.441786</td>\n",
       "      <td>0.562004</td>\n",
       "      <td>0.834848</td>\n",
       "    </tr>\n",
       "    <tr>\n",
       "      <th>2</th>\n",
       "      <td>0.265212</td>\n",
       "      <td>0.241695</td>\n",
       "      <td>0.620968</td>\n",
       "      <td>0.325134</td>\n",
       "      <td>0.339218</td>\n",
       "      <td>0.622239</td>\n",
       "      <td>0.352941</td>\n",
       "      <td>0.370630</td>\n",
       "      <td>0.637451</td>\n",
       "      <td>0.314429</td>\n",
       "      <td>0.317181</td>\n",
       "      <td>0.626886</td>\n",
       "    </tr>\n",
       "    <tr>\n",
       "      <th>3</th>\n",
       "      <td>0.365193</td>\n",
       "      <td>0.288017</td>\n",
       "      <td>0.684170</td>\n",
       "      <td>0.348670</td>\n",
       "      <td>0.312717</td>\n",
       "      <td>0.697408</td>\n",
       "      <td>0.361274</td>\n",
       "      <td>0.305714</td>\n",
       "      <td>0.689628</td>\n",
       "      <td>0.358379</td>\n",
       "      <td>0.302149</td>\n",
       "      <td>0.690402</td>\n",
       "    </tr>\n",
       "    <tr>\n",
       "      <th>4</th>\n",
       "      <td>0.769219</td>\n",
       "      <td>0.792931</td>\n",
       "      <td>0.927471</td>\n",
       "      <td>0.642890</td>\n",
       "      <td>0.602280</td>\n",
       "      <td>0.926045</td>\n",
       "      <td>0.667452</td>\n",
       "      <td>0.588710</td>\n",
       "      <td>0.929393</td>\n",
       "      <td>0.693187</td>\n",
       "      <td>0.661307</td>\n",
       "      <td>0.927636</td>\n",
       "    </tr>\n",
       "  </tbody>\n",
       "</table>\n",
       "</div>"
      ],
      "text/plain": [
       "   lgbm_pred_0  pred_rfc_0  pred_bg_0  lgbm_pred_1  pred_rfc_1  pred_bg_1  \\\n",
       "0     0.167887    0.215675   0.392005     0.150823    0.095587   0.388795   \n",
       "1     0.413008    0.602728   0.827435     0.460751    0.565422   0.838194   \n",
       "2     0.265212    0.241695   0.620968     0.325134    0.339218   0.622239   \n",
       "3     0.365193    0.288017   0.684170     0.348670    0.312717   0.697408   \n",
       "4     0.769219    0.792931   0.927471     0.642890    0.602280   0.926045   \n",
       "\n",
       "   lgbm_pred_2  pred_rfc_2  pred_bg_2  lgbm_pred  pred_rfc   pred_bg  \n",
       "0     0.163948    0.238955   0.409904   0.160886  0.183406  0.396901  \n",
       "1     0.451599    0.517862   0.838917   0.441786  0.562004  0.834848  \n",
       "2     0.352941    0.370630   0.637451   0.314429  0.317181  0.626886  \n",
       "3     0.361274    0.305714   0.689628   0.358379  0.302149  0.690402  \n",
       "4     0.667452    0.588710   0.929393   0.693187  0.661307  0.927636  "
      ]
     },
     "execution_count": 181,
     "metadata": {},
     "output_type": "execute_result"
    }
   ],
   "source": [
    "new_submit.head()"
   ]
  },
  {
   "cell_type": "code",
   "execution_count": 183,
   "metadata": {},
   "outputs": [],
   "source": [
    "new_submit['_ID_'] = new_submit.index\n",
    "new_submit['_VAL_'] = rankdata(new_submit['pred_bg'])+rankdata(new_submit['lgbm_pred'])+rankdata(new_submit['pred_rfc'])"
   ]
  },
  {
   "cell_type": "code",
   "execution_count": 187,
   "metadata": {},
   "outputs": [],
   "source": [
    "new_submit[['_ID_', '_VAL_']].to_csv('submissions/stack_rank.csv', index=False)"
   ]
  },
  {
   "cell_type": "code",
   "execution_count": 243,
   "metadata": {},
   "outputs": [],
   "source": [
    "new_submit['_VAL_'] = new_submit['pred_bg']"
   ]
  },
  {
   "cell_type": "code",
   "execution_count": 244,
   "metadata": {},
   "outputs": [],
   "source": [
    "new_submit[['_ID_', '_VAL_']].to_csv('submissions/stack_bagging.csv', index=False)"
   ]
  },
  {
   "cell_type": "code",
   "execution_count": 212,
   "metadata": {},
   "outputs": [],
   "source": [
    "# temp_train_df = new_train.copy()\n",
    "# temp_submit_df = submit.copy()"
   ]
  },
  {
   "cell_type": "code",
   "execution_count": 251,
   "metadata": {},
   "outputs": [],
   "source": [
    "new_train = temp_train_df.copy()\n",
    "submit = temp_submit_df.copy()"
   ]
  },
  {
   "cell_type": "code",
   "execution_count": 394,
   "metadata": {},
   "outputs": [],
   "source": [
    "submit = test.copy()\n",
    "new_train = train.copy()"
   ]
  },
  {
   "cell_type": "markdown",
   "metadata": {},
   "source": [
    "---"
   ]
  },
  {
   "cell_type": "markdown",
   "metadata": {},
   "source": [
    "# 7. =/\n",
    "### Тут дальше совсем треш\n",
    "---"
   ]
  },
  {
   "cell_type": "code",
   "execution_count": 391,
   "metadata": {},
   "outputs": [],
   "source": [
    "# ww = np.array([1.15626488e-01, 1.12018473e-06, 8.84372392e-01])"
   ]
  },
  {
   "cell_type": "code",
   "execution_count": 390,
   "metadata": {},
   "outputs": [],
   "source": [
    "def optimize_weights(preds, y, method = \"Nelder-Mead\"):\n",
    "    def rocauc(x):\n",
    "        weights  = np.array(np.exp(x)/np.sum(np.exp(x)))\n",
    "        pred = weights.dot(preds)# sum([p*w for (p,w) in zip(preds,weights)])\n",
    "        #log.debug(\"weights: {} auc: {}\".format(weights, roc_auc_score(y, pred)))\n",
    "        score = -roc_auc_score(y, pred)\n",
    "        return score\n",
    "    #res = minimize(rocauc, np.zeros(len(preds)), method= method)\n",
    "    res = minimize(rocauc, np.ones(len(preds))/len(preds), method= method)\n",
    "    w = np.exp(res.x)/np.sum(np.exp(res.x))\n",
    "    return w"
   ]
  },
  {
   "cell_type": "code",
   "execution_count": 395,
   "metadata": {},
   "outputs": [
    {
     "name": "stdout",
     "output_type": "stream",
     "text": [
      "0.7408339239354479\n",
      "0.741666454706559\n",
      "0.7353801039617083\n",
      "0.7280968715563148\n",
      "0.7245994194785831\n",
      "-----\n",
      "0.7387297685547838\n",
      "0.7417405690491725\n",
      "0.7362310805933656\n",
      "0.7228515041457668\n",
      "0.7412487774791757\n",
      "-----\n",
      "0.7368783438912998\n",
      "0.7415351460632361\n",
      "0.7358358898884263\n",
      "0.7164390178342903\n",
      "0.7414465529885452\n",
      "-----\n"
     ]
    }
   ],
   "source": [
    "wws = []\n",
    "weightet_pred = []\n",
    "\n",
    "for x in range(3):\n",
    "    i = 0\n",
    "    \n",
    "    df = new_train.copy()\n",
    "    submit_df = submit.copy()\n",
    "    \n",
    "    # ?bagging max features\n",
    "    if len(df.columns) > 20:\n",
    "        rfc = RandomForestClassifier(max_features=0.4, min_samples_leaf=5, n_estimators=200, random_state=42, n_jobs=-1)\n",
    "        bgbm.set_params(**{'feature_fraction': 0.8})\n",
    "    else:\n",
    "        rfc = RandomForestClassifier(min_samples_leaf=5, n_estimators=200, random_state=42, n_jobs=-1)\n",
    "        bgbm.set_params(**{'feature_fraction': 1})\n",
    "\n",
    "    for tr, val in skf.split(new_train, target):\n",
    "        bgbm.fit(new_train.iloc[tr], target[tr])\n",
    "        pred_lgb = bgbm.predict_proba(new_train.iloc[val])[:,1]\n",
    "\n",
    "\n",
    "        rfc.fit(new_train.iloc[tr], target[tr])\n",
    "        pred_rfc = rfc.predict_proba(new_train.iloc[val])[:,1]\n",
    "\n",
    "        bg.fit(new_train.iloc[tr], target[tr])\n",
    "        pred_bg = bg.predict_proba(new_train.iloc[val])[:,1]\n",
    "        \n",
    "        \n",
    "\n",
    "        df.loc[val, 'lgbm_pred'] = pred_lgb\n",
    "        df.loc[val, 'pred_rfc'] = pred_rfc\n",
    "        df.loc[val, 'pred_bg'.format(i)] = pred_bg\n",
    "\n",
    "\n",
    "        pred_lgb_test = bgbm.predict_proba(submit)[:,1]\n",
    "        pred_rfc_test = rfc.predict_proba(submit)[:,1]\n",
    "        pred_bg_test = bg.predict_proba(submit)[:,1]\n",
    "        submit_df['lgbm_pred_{}'.format(i)] = pred_lgb_test\n",
    "        submit_df['pred_rfc_{}'.format(i)] = pred_rfc_test\n",
    "        submit_df['pred_bg_{}'.format(i)] = pred_bg_test\n",
    "\n",
    "        i+=1\n",
    "        \n",
    "    new_train = df.copy()[['lgbm_pred', 'pred_rfc', 'pred_bg']]\n",
    "    submit = submit_df.copy()\n",
    "\n",
    "    submit['lgbm_pred'] = (submit['lgbm_pred_0'] + submit['lgbm_pred_1'] + submit['lgbm_pred_2'])/3\n",
    "    submit['pred_rfc'] = (submit['pred_rfc_0'] + submit['pred_rfc_1'] + submit['pred_rfc_2'])/3\n",
    "    submit['pred_bg'] = (submit['pred_bg_0'] + submit['pred_bg_1'] + submit['pred_bg_2'])/3\n",
    "    submit = submit[['lgbm_pred', 'pred_rfc', 'pred_bg']]\n",
    "    \n",
    "    submit.to_csv('new_ds/test_{}'.format(x))\n",
    "    new_train.to_csv('new_ds/train_{}'.format(x))\n",
    "    \n",
    "    \n",
    "    ww = optimize_weights(new_train.T.values, target, method=\"Powell\")\n",
    "    weightet_pred.append(new_train.values.dot(ww))\n",
    "    \n",
    "    wws.append(ww)\n",
    "    \n",
    "    print(roc_auc_score(target, rankdata(new_train['pred_bg'])+rankdata(new_train['lgbm_pred'])+rankdata(new_train['pred_rfc'])))\n",
    "    print(roc_auc_score(target, new_train.values.dot(ww)))\n",
    "    print(roc_auc_score(target, new_train['lgbm_pred']))\n",
    "    print(roc_auc_score(target, new_train['pred_rfc']))\n",
    "    print(roc_auc_score(target, new_train['pred_bg']))\n",
    "    print('-----')\n",
    "    \n",
    "    # submit means + remove\n",
    "    # print score"
   ]
  },
  {
   "cell_type": "markdown",
   "metadata": {},
   "source": [
    "---"
   ]
  },
  {
   "cell_type": "code",
   "execution_count": 396,
   "metadata": {},
   "outputs": [
    {
     "data": {
      "text/plain": [
       "[array([0.43537144, 0.37572356, 0.188905  ]),\n",
       " array([0.20925086, 0.10033005, 0.69041909]),\n",
       " array([1.24603023e-01, 5.81035398e-08, 8.75396919e-01])]"
      ]
     },
     "execution_count": 396,
     "metadata": {},
     "output_type": "execute_result"
    }
   ],
   "source": [
    "wws"
   ]
  },
  {
   "cell_type": "code",
   "execution_count": 397,
   "metadata": {},
   "outputs": [],
   "source": [
    "sub2 = pd.read_csv('new_ds/test_1').drop('Unnamed: 0', axis=1)"
   ]
  },
  {
   "cell_type": "code",
   "execution_count": 398,
   "metadata": {},
   "outputs": [],
   "source": [
    "sub2['_VAL_'] = sub2.values.dot(wws[1])"
   ]
  },
  {
   "cell_type": "code",
   "execution_count": 399,
   "metadata": {},
   "outputs": [],
   "source": [
    "sub2['_ID_'] = sub2.index"
   ]
  },
  {
   "cell_type": "code",
   "execution_count": 401,
   "metadata": {},
   "outputs": [],
   "source": [
    "sub2 = sub2[['_ID_', '_VAL_']]"
   ]
  },
  {
   "cell_type": "code",
   "execution_count": 402,
   "metadata": {},
   "outputs": [],
   "source": [
    "sub2.to_csv('submissions/weighted_stacking1.csv', index=False)"
   ]
  },
  {
   "cell_type": "code",
   "execution_count": null,
   "metadata": {},
   "outputs": [],
   "source": []
  },
  {
   "cell_type": "code",
   "execution_count": 403,
   "metadata": {},
   "outputs": [],
   "source": [
    "sub1 = pd.read_csv('new_ds/test_0').drop('Unnamed: 0', axis=1)"
   ]
  },
  {
   "cell_type": "code",
   "execution_count": 404,
   "metadata": {},
   "outputs": [],
   "source": [
    "sub1['_VAL_'] = sub1.values.dot(wws[0])"
   ]
  },
  {
   "cell_type": "code",
   "execution_count": 406,
   "metadata": {},
   "outputs": [],
   "source": [
    "sub1['_ID_'] = sub1.index"
   ]
  },
  {
   "cell_type": "code",
   "execution_count": 407,
   "metadata": {},
   "outputs": [],
   "source": [
    "sub1 = sub1[['_ID_', '_VAL_']]"
   ]
  },
  {
   "cell_type": "code",
   "execution_count": 408,
   "metadata": {},
   "outputs": [],
   "source": [
    "sub1.to_csv('submissions/weighted_stacking0.csv', index=False)"
   ]
  },
  {
   "cell_type": "code",
   "execution_count": null,
   "metadata": {},
   "outputs": [],
   "source": []
  },
  {
   "cell_type": "code",
   "execution_count": 354,
   "metadata": {},
   "outputs": [],
   "source": [
    "target.to_csv('new_ds/target')"
   ]
  },
  {
   "cell_type": "code",
   "execution_count": 338,
   "metadata": {},
   "outputs": [],
   "source": [
    "from scipy.optimize import minimize\n",
    "from sklearn.metrics import log_loss"
   ]
  },
  {
   "cell_type": "code",
   "execution_count": 363,
   "metadata": {},
   "outputs": [
    {
     "data": {
      "text/plain": [
       "0    1.0\n",
       "1    1.0\n",
       "2    0.0\n",
       "3    0.0\n",
       "4    0.0\n",
       "Name: 0, dtype: float64"
      ]
     },
     "execution_count": 363,
     "metadata": {},
     "output_type": "execute_result"
    }
   ],
   "source": [
    "target.head()"
   ]
  },
  {
   "cell_type": "code",
   "execution_count": 357,
   "metadata": {},
   "outputs": [],
   "source": [
    "# target"
   ]
  },
  {
   "cell_type": "code",
   "execution_count": 356,
   "metadata": {},
   "outputs": [],
   "source": [
    "# new_train"
   ]
  },
  {
   "cell_type": "code",
   "execution_count": 355,
   "metadata": {},
   "outputs": [],
   "source": [
    "# optimize_weights(new_train, target)"
   ]
  },
  {
   "cell_type": "code",
   "execution_count": 326,
   "metadata": {},
   "outputs": [],
   "source": [
    "# def optimize_weights(preds, y):\n",
    "#     def mlogloss(x):\n",
    "#         weights = np.exp(x)/np.sum(np.exp(x))\n",
    "#         pred = sum([p*w for (p,w) in zip(preds,weights)])\n",
    "#         return roc_auc_score(y.values, pred)\n",
    "#     res = minimize(mlogloss, np.zeros(len(preds)))\n",
    "#     w = np.exp(res.x)/np.sum(np.exp(res.x))\n",
    "#     return w\n",
    "\n"
   ]
  },
  {
   "cell_type": "code",
   "execution_count": 328,
   "metadata": {},
   "outputs": [],
   "source": [
    "# optimize_weights(new_train.values, target)"
   ]
  },
  {
   "cell_type": "code",
   "execution_count": 291,
   "metadata": {},
   "outputs": [
    {
     "data": {
      "text/html": [
       "<div>\n",
       "<style scoped>\n",
       "    .dataframe tbody tr th:only-of-type {\n",
       "        vertical-align: middle;\n",
       "    }\n",
       "\n",
       "    .dataframe tbody tr th {\n",
       "        vertical-align: top;\n",
       "    }\n",
       "\n",
       "    .dataframe thead th {\n",
       "        text-align: right;\n",
       "    }\n",
       "</style>\n",
       "<table border=\"1\" class=\"dataframe\">\n",
       "  <thead>\n",
       "    <tr style=\"text-align: right;\">\n",
       "      <th></th>\n",
       "      <th>lgbm_pred</th>\n",
       "      <th>pred_rfc</th>\n",
       "      <th>pred_bg</th>\n",
       "    </tr>\n",
       "  </thead>\n",
       "  <tbody>\n",
       "    <tr>\n",
       "      <th>0</th>\n",
       "      <td>0.159695</td>\n",
       "      <td>0.158394</td>\n",
       "      <td>0.491057</td>\n",
       "    </tr>\n",
       "    <tr>\n",
       "      <th>1</th>\n",
       "      <td>0.530018</td>\n",
       "      <td>0.556100</td>\n",
       "      <td>0.831287</td>\n",
       "    </tr>\n",
       "    <tr>\n",
       "      <th>2</th>\n",
       "      <td>0.315389</td>\n",
       "      <td>0.297686</td>\n",
       "      <td>0.711538</td>\n",
       "    </tr>\n",
       "    <tr>\n",
       "      <th>3</th>\n",
       "      <td>0.353188</td>\n",
       "      <td>0.321377</td>\n",
       "      <td>0.668819</td>\n",
       "    </tr>\n",
       "    <tr>\n",
       "      <th>4</th>\n",
       "      <td>0.720616</td>\n",
       "      <td>0.744633</td>\n",
       "      <td>0.908882</td>\n",
       "    </tr>\n",
       "  </tbody>\n",
       "</table>\n",
       "</div>"
      ],
      "text/plain": [
       "   lgbm_pred  pred_rfc   pred_bg\n",
       "0   0.159695  0.158394  0.491057\n",
       "1   0.530018  0.556100  0.831287\n",
       "2   0.315389  0.297686  0.711538\n",
       "3   0.353188  0.321377  0.668819\n",
       "4   0.720616  0.744633  0.908882"
      ]
     },
     "execution_count": 291,
     "metadata": {},
     "output_type": "execute_result"
    }
   ],
   "source": [
    "submit.head()"
   ]
  },
  {
   "cell_type": "code",
   "execution_count": null,
   "metadata": {},
   "outputs": [],
   "source": []
  },
  {
   "cell_type": "code",
   "execution_count": null,
   "metadata": {},
   "outputs": [],
   "source": []
  },
  {
   "cell_type": "code",
   "execution_count": null,
   "metadata": {},
   "outputs": [],
   "source": []
  },
  {
   "cell_type": "code",
   "execution_count": null,
   "metadata": {},
   "outputs": [],
   "source": []
  },
  {
   "cell_type": "code",
   "execution_count": 72,
   "metadata": {},
   "outputs": [],
   "source": [
    "# skf = StratifiedKFold(n_splits=6, random_state=42, shuffle=True)"
   ]
  },
  {
   "cell_type": "code",
   "execution_count": 78,
   "metadata": {},
   "outputs": [],
   "source": [
    "# skf.get_n_splits(X, y)"
   ]
  },
  {
   "cell_type": "code",
   "execution_count": 77,
   "metadata": {},
   "outputs": [],
   "source": [
    "# for train_index, test_index in skf.split(X, y):\n",
    "# #     print(\"TRAIN:\", train_index, \"TEST:\", test_index)\n",
    "#     X_train, X_test = X.iloc[train_index], X.iloc[test_index]\n",
    "#     y_train, y_test = y.iloc[train_index], y.iloc[test_index]"
   ]
  },
  {
   "cell_type": "code",
   "execution_count": null,
   "metadata": {},
   "outputs": [],
   "source": []
  },
  {
   "cell_type": "code",
   "execution_count": null,
   "metadata": {},
   "outputs": [],
   "source": []
  },
  {
   "cell_type": "code",
   "execution_count": 201,
   "metadata": {},
   "outputs": [],
   "source": [
    "import matplotlib.pyplot as plt"
   ]
  },
  {
   "cell_type": "code",
   "execution_count": 202,
   "metadata": {},
   "outputs": [
    {
     "name": "stdout",
     "output_type": "stream",
     "text": [
      "Plot feature importances...\n"
     ]
    },
    {
     "data": {
      "image/png": "[encoded data removed]",
      "text/plain": [
       "<Figure size 432x288 with 1 Axes>"
      ]
     },
     "metadata": {},
     "output_type": "display_data"
    }
   ],
   "source": [
    "print('Plot feature importances...')\n",
    "ax = lgb.plot_importance(gbm.best_estimator_, max_num_features=10)\n",
    "plt.show()"
   ]
  },
  {
   "cell_type": "code",
   "execution_count": 204,
   "metadata": {},
   "outputs": [
    {
     "data": {
      "text/plain": [
       "342"
      ]
     },
     "execution_count": 204,
     "metadata": {},
     "output_type": "execute_result"
    }
   ],
   "source": [
    "len(train.columns)"
   ]
  },
  {
   "cell_type": "code",
   "execution_count": null,
   "metadata": {},
   "outputs": [],
   "source": []
  }
 ],
 "metadata": {
  "kernelspec": {
   "display_name": "Python 3",
   "language": "python",
   "name": "python3"
  },
  "language_info": {
   "codemirror_mode": {
    "name": "ipython",
    "version": 3
   },
   "file_extension": ".py",
   "mimetype": "text/x-python",
   "name": "python",
   "nbconvert_exporter": "python",
   "pygments_lexer": "ipython3",
   "version": "3.6.4"
  }
 },
 "nbformat": 4,
 "nbformat_minor": 2
}
